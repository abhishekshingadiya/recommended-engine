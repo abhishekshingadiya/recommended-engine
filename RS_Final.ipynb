{
  "nbformat": 4,
  "nbformat_minor": 0,
  "metadata": {
    "colab": {
      "name": "RS-Final.ipynb",
      "provenance": [],
      "collapsed_sections": []
    },
    "kernelspec": {
      "display_name": "Python 3",
      "name": "python3"
    },
    "language_info": {
      "name": "python"
    },
    "widgets": {
      "application/vnd.jupyter.widget-state+json": {
        "fcf498be3c5c4db9b8fc4beca42a52fb": {
          "model_module": "@jupyter-widgets/controls",
          "model_name": "HBoxModel",
          "state": {
            "_view_name": "HBoxView",
            "_dom_classes": [],
            "_model_name": "HBoxModel",
            "_view_module": "@jupyter-widgets/controls",
            "_model_module_version": "1.5.0",
            "_view_count": null,
            "_view_module_version": "1.5.0",
            "box_style": "",
            "layout": "IPY_MODEL_6e5332b532384a09a11a67a49d75252d",
            "_model_module": "@jupyter-widgets/controls",
            "children": [
              "IPY_MODEL_b2e71a50eabf48b6a10de127159b923d",
              "IPY_MODEL_9f7d498917bc4518821d1834c66c8407"
            ]
          }
        },
        "6e5332b532384a09a11a67a49d75252d": {
          "model_module": "@jupyter-widgets/base",
          "model_name": "LayoutModel",
          "state": {
            "_view_name": "LayoutView",
            "grid_template_rows": null,
            "right": null,
            "justify_content": null,
            "_view_module": "@jupyter-widgets/base",
            "overflow": null,
            "_model_module_version": "1.2.0",
            "_view_count": null,
            "flex_flow": null,
            "width": null,
            "min_width": null,
            "border": null,
            "align_items": null,
            "bottom": null,
            "_model_module": "@jupyter-widgets/base",
            "top": null,
            "grid_column": null,
            "overflow_y": null,
            "overflow_x": null,
            "grid_auto_flow": null,
            "grid_area": null,
            "grid_template_columns": null,
            "flex": null,
            "_model_name": "LayoutModel",
            "justify_items": null,
            "grid_row": null,
            "max_height": null,
            "align_content": null,
            "visibility": null,
            "align_self": null,
            "height": null,
            "min_height": null,
            "padding": null,
            "grid_auto_rows": null,
            "grid_gap": null,
            "max_width": null,
            "order": null,
            "_view_module_version": "1.2.0",
            "grid_template_areas": null,
            "object_position": null,
            "object_fit": null,
            "grid_auto_columns": null,
            "margin": null,
            "display": null,
            "left": null
          }
        },
        "b2e71a50eabf48b6a10de127159b923d": {
          "model_module": "@jupyter-widgets/controls",
          "model_name": "FloatProgressModel",
          "state": {
            "_view_name": "ProgressView",
            "style": "IPY_MODEL_c1196cd0d900490e994e9b6eeabffde2",
            "_dom_classes": [],
            "description": "Downloading: 100%",
            "_model_name": "FloatProgressModel",
            "bar_style": "success",
            "max": 747,
            "_view_module": "@jupyter-widgets/controls",
            "_model_module_version": "1.5.0",
            "value": 747,
            "_view_count": null,
            "_view_module_version": "1.5.0",
            "orientation": "horizontal",
            "min": 0,
            "description_tooltip": null,
            "_model_module": "@jupyter-widgets/controls",
            "layout": "IPY_MODEL_6b773ad4c41b4f17b2136f872c33f4d1"
          }
        },
        "9f7d498917bc4518821d1834c66c8407": {
          "model_module": "@jupyter-widgets/controls",
          "model_name": "HTMLModel",
          "state": {
            "_view_name": "HTMLView",
            "style": "IPY_MODEL_dec63c328a2f44d39dd5bbd8623a5627",
            "_dom_classes": [],
            "description": "",
            "_model_name": "HTMLModel",
            "placeholder": "​",
            "_view_module": "@jupyter-widgets/controls",
            "_model_module_version": "1.5.0",
            "value": " 747/747 [00:04&lt;00:00, 182B/s]",
            "_view_count": null,
            "_view_module_version": "1.5.0",
            "description_tooltip": null,
            "_model_module": "@jupyter-widgets/controls",
            "layout": "IPY_MODEL_efc47484acc148f5a3e87dc9718ace5d"
          }
        },
        "c1196cd0d900490e994e9b6eeabffde2": {
          "model_module": "@jupyter-widgets/controls",
          "model_name": "ProgressStyleModel",
          "state": {
            "_view_name": "StyleView",
            "_model_name": "ProgressStyleModel",
            "description_width": "initial",
            "_view_module": "@jupyter-widgets/base",
            "_model_module_version": "1.5.0",
            "_view_count": null,
            "_view_module_version": "1.2.0",
            "bar_color": null,
            "_model_module": "@jupyter-widgets/controls"
          }
        },
        "6b773ad4c41b4f17b2136f872c33f4d1": {
          "model_module": "@jupyter-widgets/base",
          "model_name": "LayoutModel",
          "state": {
            "_view_name": "LayoutView",
            "grid_template_rows": null,
            "right": null,
            "justify_content": null,
            "_view_module": "@jupyter-widgets/base",
            "overflow": null,
            "_model_module_version": "1.2.0",
            "_view_count": null,
            "flex_flow": null,
            "width": null,
            "min_width": null,
            "border": null,
            "align_items": null,
            "bottom": null,
            "_model_module": "@jupyter-widgets/base",
            "top": null,
            "grid_column": null,
            "overflow_y": null,
            "overflow_x": null,
            "grid_auto_flow": null,
            "grid_area": null,
            "grid_template_columns": null,
            "flex": null,
            "_model_name": "LayoutModel",
            "justify_items": null,
            "grid_row": null,
            "max_height": null,
            "align_content": null,
            "visibility": null,
            "align_self": null,
            "height": null,
            "min_height": null,
            "padding": null,
            "grid_auto_rows": null,
            "grid_gap": null,
            "max_width": null,
            "order": null,
            "_view_module_version": "1.2.0",
            "grid_template_areas": null,
            "object_position": null,
            "object_fit": null,
            "grid_auto_columns": null,
            "margin": null,
            "display": null,
            "left": null
          }
        },
        "dec63c328a2f44d39dd5bbd8623a5627": {
          "model_module": "@jupyter-widgets/controls",
          "model_name": "DescriptionStyleModel",
          "state": {
            "_view_name": "StyleView",
            "_model_name": "DescriptionStyleModel",
            "description_width": "",
            "_view_module": "@jupyter-widgets/base",
            "_model_module_version": "1.5.0",
            "_view_count": null,
            "_view_module_version": "1.2.0",
            "_model_module": "@jupyter-widgets/controls"
          }
        },
        "efc47484acc148f5a3e87dc9718ace5d": {
          "model_module": "@jupyter-widgets/base",
          "model_name": "LayoutModel",
          "state": {
            "_view_name": "LayoutView",
            "grid_template_rows": null,
            "right": null,
            "justify_content": null,
            "_view_module": "@jupyter-widgets/base",
            "overflow": null,
            "_model_module_version": "1.2.0",
            "_view_count": null,
            "flex_flow": null,
            "width": null,
            "min_width": null,
            "border": null,
            "align_items": null,
            "bottom": null,
            "_model_module": "@jupyter-widgets/base",
            "top": null,
            "grid_column": null,
            "overflow_y": null,
            "overflow_x": null,
            "grid_auto_flow": null,
            "grid_area": null,
            "grid_template_columns": null,
            "flex": null,
            "_model_name": "LayoutModel",
            "justify_items": null,
            "grid_row": null,
            "max_height": null,
            "align_content": null,
            "visibility": null,
            "align_self": null,
            "height": null,
            "min_height": null,
            "padding": null,
            "grid_auto_rows": null,
            "grid_gap": null,
            "max_width": null,
            "order": null,
            "_view_module_version": "1.2.0",
            "grid_template_areas": null,
            "object_position": null,
            "object_fit": null,
            "grid_auto_columns": null,
            "margin": null,
            "display": null,
            "left": null
          }
        },
        "7a35360679b14333be4f54316acf0d7e": {
          "model_module": "@jupyter-widgets/controls",
          "model_name": "HBoxModel",
          "state": {
            "_view_name": "HBoxView",
            "_dom_classes": [],
            "_model_name": "HBoxModel",
            "_view_module": "@jupyter-widgets/controls",
            "_model_module_version": "1.5.0",
            "_view_count": null,
            "_view_module_version": "1.5.0",
            "box_style": "",
            "layout": "IPY_MODEL_79a519bae0d54f0c92ed7b09e0fe96c5",
            "_model_module": "@jupyter-widgets/controls",
            "children": [
              "IPY_MODEL_042cc00eb5dd4618b29e3b3660ca9b37",
              "IPY_MODEL_8aa0348eb02046bda10913c422efba1f"
            ]
          }
        },
        "79a519bae0d54f0c92ed7b09e0fe96c5": {
          "model_module": "@jupyter-widgets/base",
          "model_name": "LayoutModel",
          "state": {
            "_view_name": "LayoutView",
            "grid_template_rows": null,
            "right": null,
            "justify_content": null,
            "_view_module": "@jupyter-widgets/base",
            "overflow": null,
            "_model_module_version": "1.2.0",
            "_view_count": null,
            "flex_flow": null,
            "width": null,
            "min_width": null,
            "border": null,
            "align_items": null,
            "bottom": null,
            "_model_module": "@jupyter-widgets/base",
            "top": null,
            "grid_column": null,
            "overflow_y": null,
            "overflow_x": null,
            "grid_auto_flow": null,
            "grid_area": null,
            "grid_template_columns": null,
            "flex": null,
            "_model_name": "LayoutModel",
            "justify_items": null,
            "grid_row": null,
            "max_height": null,
            "align_content": null,
            "visibility": null,
            "align_self": null,
            "height": null,
            "min_height": null,
            "padding": null,
            "grid_auto_rows": null,
            "grid_gap": null,
            "max_width": null,
            "order": null,
            "_view_module_version": "1.2.0",
            "grid_template_areas": null,
            "object_position": null,
            "object_fit": null,
            "grid_auto_columns": null,
            "margin": null,
            "display": null,
            "left": null
          }
        },
        "042cc00eb5dd4618b29e3b3660ca9b37": {
          "model_module": "@jupyter-widgets/controls",
          "model_name": "FloatProgressModel",
          "state": {
            "_view_name": "ProgressView",
            "style": "IPY_MODEL_4414e73ade524a489ef6429229988fe4",
            "_dom_classes": [],
            "description": "Downloading: 100%",
            "_model_name": "FloatProgressModel",
            "bar_style": "success",
            "max": 898822,
            "_view_module": "@jupyter-widgets/controls",
            "_model_module_version": "1.5.0",
            "value": 898822,
            "_view_count": null,
            "_view_module_version": "1.5.0",
            "orientation": "horizontal",
            "min": 0,
            "description_tooltip": null,
            "_model_module": "@jupyter-widgets/controls",
            "layout": "IPY_MODEL_dda3751745f8450c90c05a79554c57ed"
          }
        },
        "8aa0348eb02046bda10913c422efba1f": {
          "model_module": "@jupyter-widgets/controls",
          "model_name": "HTMLModel",
          "state": {
            "_view_name": "HTMLView",
            "style": "IPY_MODEL_2dc97dee319b4c208755e7ae130ddb5f",
            "_dom_classes": [],
            "description": "",
            "_model_name": "HTMLModel",
            "placeholder": "​",
            "_view_module": "@jupyter-widgets/controls",
            "_model_module_version": "1.5.0",
            "value": " 899k/899k [00:00&lt;00:00, 1.04MB/s]",
            "_view_count": null,
            "_view_module_version": "1.5.0",
            "description_tooltip": null,
            "_model_module": "@jupyter-widgets/controls",
            "layout": "IPY_MODEL_17371011fc3d4099aeab4c1f0f959827"
          }
        },
        "4414e73ade524a489ef6429229988fe4": {
          "model_module": "@jupyter-widgets/controls",
          "model_name": "ProgressStyleModel",
          "state": {
            "_view_name": "StyleView",
            "_model_name": "ProgressStyleModel",
            "description_width": "initial",
            "_view_module": "@jupyter-widgets/base",
            "_model_module_version": "1.5.0",
            "_view_count": null,
            "_view_module_version": "1.2.0",
            "bar_color": null,
            "_model_module": "@jupyter-widgets/controls"
          }
        },
        "dda3751745f8450c90c05a79554c57ed": {
          "model_module": "@jupyter-widgets/base",
          "model_name": "LayoutModel",
          "state": {
            "_view_name": "LayoutView",
            "grid_template_rows": null,
            "right": null,
            "justify_content": null,
            "_view_module": "@jupyter-widgets/base",
            "overflow": null,
            "_model_module_version": "1.2.0",
            "_view_count": null,
            "flex_flow": null,
            "width": null,
            "min_width": null,
            "border": null,
            "align_items": null,
            "bottom": null,
            "_model_module": "@jupyter-widgets/base",
            "top": null,
            "grid_column": null,
            "overflow_y": null,
            "overflow_x": null,
            "grid_auto_flow": null,
            "grid_area": null,
            "grid_template_columns": null,
            "flex": null,
            "_model_name": "LayoutModel",
            "justify_items": null,
            "grid_row": null,
            "max_height": null,
            "align_content": null,
            "visibility": null,
            "align_self": null,
            "height": null,
            "min_height": null,
            "padding": null,
            "grid_auto_rows": null,
            "grid_gap": null,
            "max_width": null,
            "order": null,
            "_view_module_version": "1.2.0",
            "grid_template_areas": null,
            "object_position": null,
            "object_fit": null,
            "grid_auto_columns": null,
            "margin": null,
            "display": null,
            "left": null
          }
        },
        "2dc97dee319b4c208755e7ae130ddb5f": {
          "model_module": "@jupyter-widgets/controls",
          "model_name": "DescriptionStyleModel",
          "state": {
            "_view_name": "StyleView",
            "_model_name": "DescriptionStyleModel",
            "description_width": "",
            "_view_module": "@jupyter-widgets/base",
            "_model_module_version": "1.5.0",
            "_view_count": null,
            "_view_module_version": "1.2.0",
            "_model_module": "@jupyter-widgets/controls"
          }
        },
        "17371011fc3d4099aeab4c1f0f959827": {
          "model_module": "@jupyter-widgets/base",
          "model_name": "LayoutModel",
          "state": {
            "_view_name": "LayoutView",
            "grid_template_rows": null,
            "right": null,
            "justify_content": null,
            "_view_module": "@jupyter-widgets/base",
            "overflow": null,
            "_model_module_version": "1.2.0",
            "_view_count": null,
            "flex_flow": null,
            "width": null,
            "min_width": null,
            "border": null,
            "align_items": null,
            "bottom": null,
            "_model_module": "@jupyter-widgets/base",
            "top": null,
            "grid_column": null,
            "overflow_y": null,
            "overflow_x": null,
            "grid_auto_flow": null,
            "grid_area": null,
            "grid_template_columns": null,
            "flex": null,
            "_model_name": "LayoutModel",
            "justify_items": null,
            "grid_row": null,
            "max_height": null,
            "align_content": null,
            "visibility": null,
            "align_self": null,
            "height": null,
            "min_height": null,
            "padding": null,
            "grid_auto_rows": null,
            "grid_gap": null,
            "max_width": null,
            "order": null,
            "_view_module_version": "1.2.0",
            "grid_template_areas": null,
            "object_position": null,
            "object_fit": null,
            "grid_auto_columns": null,
            "margin": null,
            "display": null,
            "left": null
          }
        },
        "9159795003a740c78adbe50af7f6592f": {
          "model_module": "@jupyter-widgets/controls",
          "model_name": "HBoxModel",
          "state": {
            "_view_name": "HBoxView",
            "_dom_classes": [],
            "_model_name": "HBoxModel",
            "_view_module": "@jupyter-widgets/controls",
            "_model_module_version": "1.5.0",
            "_view_count": null,
            "_view_module_version": "1.5.0",
            "box_style": "",
            "layout": "IPY_MODEL_3dfdf06c40d245e2b50f5eb808012ff1",
            "_model_module": "@jupyter-widgets/controls",
            "children": [
              "IPY_MODEL_cc26f9d451d643c580174b5c31567f4f",
              "IPY_MODEL_e2b19ef0ad4845d3a42a615a9ad7d507"
            ]
          }
        },
        "3dfdf06c40d245e2b50f5eb808012ff1": {
          "model_module": "@jupyter-widgets/base",
          "model_name": "LayoutModel",
          "state": {
            "_view_name": "LayoutView",
            "grid_template_rows": null,
            "right": null,
            "justify_content": null,
            "_view_module": "@jupyter-widgets/base",
            "overflow": null,
            "_model_module_version": "1.2.0",
            "_view_count": null,
            "flex_flow": null,
            "width": null,
            "min_width": null,
            "border": null,
            "align_items": null,
            "bottom": null,
            "_model_module": "@jupyter-widgets/base",
            "top": null,
            "grid_column": null,
            "overflow_y": null,
            "overflow_x": null,
            "grid_auto_flow": null,
            "grid_area": null,
            "grid_template_columns": null,
            "flex": null,
            "_model_name": "LayoutModel",
            "justify_items": null,
            "grid_row": null,
            "max_height": null,
            "align_content": null,
            "visibility": null,
            "align_self": null,
            "height": null,
            "min_height": null,
            "padding": null,
            "grid_auto_rows": null,
            "grid_gap": null,
            "max_width": null,
            "order": null,
            "_view_module_version": "1.2.0",
            "grid_template_areas": null,
            "object_position": null,
            "object_fit": null,
            "grid_auto_columns": null,
            "margin": null,
            "display": null,
            "left": null
          }
        },
        "cc26f9d451d643c580174b5c31567f4f": {
          "model_module": "@jupyter-widgets/controls",
          "model_name": "FloatProgressModel",
          "state": {
            "_view_name": "ProgressView",
            "style": "IPY_MODEL_5583775ca159438693c9783c4ae8895d",
            "_dom_classes": [],
            "description": "Downloading: 100%",
            "_model_name": "FloatProgressModel",
            "bar_style": "success",
            "max": 456318,
            "_view_module": "@jupyter-widgets/controls",
            "_model_module_version": "1.5.0",
            "value": 456318,
            "_view_count": null,
            "_view_module_version": "1.5.0",
            "orientation": "horizontal",
            "min": 0,
            "description_tooltip": null,
            "_model_module": "@jupyter-widgets/controls",
            "layout": "IPY_MODEL_df82ccc62a2a4d0c855b61709daf8941"
          }
        },
        "e2b19ef0ad4845d3a42a615a9ad7d507": {
          "model_module": "@jupyter-widgets/controls",
          "model_name": "HTMLModel",
          "state": {
            "_view_name": "HTMLView",
            "style": "IPY_MODEL_6d6ce44ee5be4180806eaef39011d710",
            "_dom_classes": [],
            "description": "",
            "_model_name": "HTMLModel",
            "placeholder": "​",
            "_view_module": "@jupyter-widgets/controls",
            "_model_module_version": "1.5.0",
            "value": " 456k/456k [00:02&lt;00:00, 207kB/s]",
            "_view_count": null,
            "_view_module_version": "1.5.0",
            "description_tooltip": null,
            "_model_module": "@jupyter-widgets/controls",
            "layout": "IPY_MODEL_e4df6c450f4947fd97cdcb6c3adf7ba3"
          }
        },
        "5583775ca159438693c9783c4ae8895d": {
          "model_module": "@jupyter-widgets/controls",
          "model_name": "ProgressStyleModel",
          "state": {
            "_view_name": "StyleView",
            "_model_name": "ProgressStyleModel",
            "description_width": "initial",
            "_view_module": "@jupyter-widgets/base",
            "_model_module_version": "1.5.0",
            "_view_count": null,
            "_view_module_version": "1.2.0",
            "bar_color": null,
            "_model_module": "@jupyter-widgets/controls"
          }
        },
        "df82ccc62a2a4d0c855b61709daf8941": {
          "model_module": "@jupyter-widgets/base",
          "model_name": "LayoutModel",
          "state": {
            "_view_name": "LayoutView",
            "grid_template_rows": null,
            "right": null,
            "justify_content": null,
            "_view_module": "@jupyter-widgets/base",
            "overflow": null,
            "_model_module_version": "1.2.0",
            "_view_count": null,
            "flex_flow": null,
            "width": null,
            "min_width": null,
            "border": null,
            "align_items": null,
            "bottom": null,
            "_model_module": "@jupyter-widgets/base",
            "top": null,
            "grid_column": null,
            "overflow_y": null,
            "overflow_x": null,
            "grid_auto_flow": null,
            "grid_area": null,
            "grid_template_columns": null,
            "flex": null,
            "_model_name": "LayoutModel",
            "justify_items": null,
            "grid_row": null,
            "max_height": null,
            "align_content": null,
            "visibility": null,
            "align_self": null,
            "height": null,
            "min_height": null,
            "padding": null,
            "grid_auto_rows": null,
            "grid_gap": null,
            "max_width": null,
            "order": null,
            "_view_module_version": "1.2.0",
            "grid_template_areas": null,
            "object_position": null,
            "object_fit": null,
            "grid_auto_columns": null,
            "margin": null,
            "display": null,
            "left": null
          }
        },
        "6d6ce44ee5be4180806eaef39011d710": {
          "model_module": "@jupyter-widgets/controls",
          "model_name": "DescriptionStyleModel",
          "state": {
            "_view_name": "StyleView",
            "_model_name": "DescriptionStyleModel",
            "description_width": "",
            "_view_module": "@jupyter-widgets/base",
            "_model_module_version": "1.5.0",
            "_view_count": null,
            "_view_module_version": "1.2.0",
            "_model_module": "@jupyter-widgets/controls"
          }
        },
        "e4df6c450f4947fd97cdcb6c3adf7ba3": {
          "model_module": "@jupyter-widgets/base",
          "model_name": "LayoutModel",
          "state": {
            "_view_name": "LayoutView",
            "grid_template_rows": null,
            "right": null,
            "justify_content": null,
            "_view_module": "@jupyter-widgets/base",
            "overflow": null,
            "_model_module_version": "1.2.0",
            "_view_count": null,
            "flex_flow": null,
            "width": null,
            "min_width": null,
            "border": null,
            "align_items": null,
            "bottom": null,
            "_model_module": "@jupyter-widgets/base",
            "top": null,
            "grid_column": null,
            "overflow_y": null,
            "overflow_x": null,
            "grid_auto_flow": null,
            "grid_area": null,
            "grid_template_columns": null,
            "flex": null,
            "_model_name": "LayoutModel",
            "justify_items": null,
            "grid_row": null,
            "max_height": null,
            "align_content": null,
            "visibility": null,
            "align_self": null,
            "height": null,
            "min_height": null,
            "padding": null,
            "grid_auto_rows": null,
            "grid_gap": null,
            "max_width": null,
            "order": null,
            "_view_module_version": "1.2.0",
            "grid_template_areas": null,
            "object_position": null,
            "object_fit": null,
            "grid_auto_columns": null,
            "margin": null,
            "display": null,
            "left": null
          }
        },
        "57bf9d4a6b2040afb9a0e63edfbf02a4": {
          "model_module": "@jupyter-widgets/controls",
          "model_name": "HBoxModel",
          "state": {
            "_view_name": "HBoxView",
            "_dom_classes": [],
            "_model_name": "HBoxModel",
            "_view_module": "@jupyter-widgets/controls",
            "_model_module_version": "1.5.0",
            "_view_count": null,
            "_view_module_version": "1.5.0",
            "box_style": "",
            "layout": "IPY_MODEL_10e5a75bd5514c438ace44637f650cda",
            "_model_module": "@jupyter-widgets/controls",
            "children": [
              "IPY_MODEL_135534354d0b496d8136cf13a0422207",
              "IPY_MODEL_241c6c558d704b7b8e245997d73152e3"
            ]
          }
        },
        "10e5a75bd5514c438ace44637f650cda": {
          "model_module": "@jupyter-widgets/base",
          "model_name": "LayoutModel",
          "state": {
            "_view_name": "LayoutView",
            "grid_template_rows": null,
            "right": null,
            "justify_content": null,
            "_view_module": "@jupyter-widgets/base",
            "overflow": null,
            "_model_module_version": "1.2.0",
            "_view_count": null,
            "flex_flow": null,
            "width": null,
            "min_width": null,
            "border": null,
            "align_items": null,
            "bottom": null,
            "_model_module": "@jupyter-widgets/base",
            "top": null,
            "grid_column": null,
            "overflow_y": null,
            "overflow_x": null,
            "grid_auto_flow": null,
            "grid_area": null,
            "grid_template_columns": null,
            "flex": null,
            "_model_name": "LayoutModel",
            "justify_items": null,
            "grid_row": null,
            "max_height": null,
            "align_content": null,
            "visibility": null,
            "align_self": null,
            "height": null,
            "min_height": null,
            "padding": null,
            "grid_auto_rows": null,
            "grid_gap": null,
            "max_width": null,
            "order": null,
            "_view_module_version": "1.2.0",
            "grid_template_areas": null,
            "object_position": null,
            "object_fit": null,
            "grid_auto_columns": null,
            "margin": null,
            "display": null,
            "left": null
          }
        },
        "135534354d0b496d8136cf13a0422207": {
          "model_module": "@jupyter-widgets/controls",
          "model_name": "FloatProgressModel",
          "state": {
            "_view_name": "ProgressView",
            "style": "IPY_MODEL_31379a1f2f7247baac96e86c0248e7eb",
            "_dom_classes": [],
            "description": "Downloading: 100%",
            "_model_name": "FloatProgressModel",
            "bar_style": "success",
            "max": 150,
            "_view_module": "@jupyter-widgets/controls",
            "_model_module_version": "1.5.0",
            "value": 150,
            "_view_count": null,
            "_view_module_version": "1.5.0",
            "orientation": "horizontal",
            "min": 0,
            "description_tooltip": null,
            "_model_module": "@jupyter-widgets/controls",
            "layout": "IPY_MODEL_f6a2dc42e753402a889c14be357d9fc2"
          }
        },
        "241c6c558d704b7b8e245997d73152e3": {
          "model_module": "@jupyter-widgets/controls",
          "model_name": "HTMLModel",
          "state": {
            "_view_name": "HTMLView",
            "style": "IPY_MODEL_066473e606a044df82a49484eda2bd3e",
            "_dom_classes": [],
            "description": "",
            "_model_name": "HTMLModel",
            "placeholder": "​",
            "_view_module": "@jupyter-widgets/controls",
            "_model_module_version": "1.5.0",
            "value": " 150/150 [00:00&lt;00:00, 203B/s]",
            "_view_count": null,
            "_view_module_version": "1.5.0",
            "description_tooltip": null,
            "_model_module": "@jupyter-widgets/controls",
            "layout": "IPY_MODEL_c2eded5d1d2747349ebc030e0039dcef"
          }
        },
        "31379a1f2f7247baac96e86c0248e7eb": {
          "model_module": "@jupyter-widgets/controls",
          "model_name": "ProgressStyleModel",
          "state": {
            "_view_name": "StyleView",
            "_model_name": "ProgressStyleModel",
            "description_width": "initial",
            "_view_module": "@jupyter-widgets/base",
            "_model_module_version": "1.5.0",
            "_view_count": null,
            "_view_module_version": "1.2.0",
            "bar_color": null,
            "_model_module": "@jupyter-widgets/controls"
          }
        },
        "f6a2dc42e753402a889c14be357d9fc2": {
          "model_module": "@jupyter-widgets/base",
          "model_name": "LayoutModel",
          "state": {
            "_view_name": "LayoutView",
            "grid_template_rows": null,
            "right": null,
            "justify_content": null,
            "_view_module": "@jupyter-widgets/base",
            "overflow": null,
            "_model_module_version": "1.2.0",
            "_view_count": null,
            "flex_flow": null,
            "width": null,
            "min_width": null,
            "border": null,
            "align_items": null,
            "bottom": null,
            "_model_module": "@jupyter-widgets/base",
            "top": null,
            "grid_column": null,
            "overflow_y": null,
            "overflow_x": null,
            "grid_auto_flow": null,
            "grid_area": null,
            "grid_template_columns": null,
            "flex": null,
            "_model_name": "LayoutModel",
            "justify_items": null,
            "grid_row": null,
            "max_height": null,
            "align_content": null,
            "visibility": null,
            "align_self": null,
            "height": null,
            "min_height": null,
            "padding": null,
            "grid_auto_rows": null,
            "grid_gap": null,
            "max_width": null,
            "order": null,
            "_view_module_version": "1.2.0",
            "grid_template_areas": null,
            "object_position": null,
            "object_fit": null,
            "grid_auto_columns": null,
            "margin": null,
            "display": null,
            "left": null
          }
        },
        "066473e606a044df82a49484eda2bd3e": {
          "model_module": "@jupyter-widgets/controls",
          "model_name": "DescriptionStyleModel",
          "state": {
            "_view_name": "StyleView",
            "_model_name": "DescriptionStyleModel",
            "description_width": "",
            "_view_module": "@jupyter-widgets/base",
            "_model_module_version": "1.5.0",
            "_view_count": null,
            "_view_module_version": "1.2.0",
            "_model_module": "@jupyter-widgets/controls"
          }
        },
        "c2eded5d1d2747349ebc030e0039dcef": {
          "model_module": "@jupyter-widgets/base",
          "model_name": "LayoutModel",
          "state": {
            "_view_name": "LayoutView",
            "grid_template_rows": null,
            "right": null,
            "justify_content": null,
            "_view_module": "@jupyter-widgets/base",
            "overflow": null,
            "_model_module_version": "1.2.0",
            "_view_count": null,
            "flex_flow": null,
            "width": null,
            "min_width": null,
            "border": null,
            "align_items": null,
            "bottom": null,
            "_model_module": "@jupyter-widgets/base",
            "top": null,
            "grid_column": null,
            "overflow_y": null,
            "overflow_x": null,
            "grid_auto_flow": null,
            "grid_area": null,
            "grid_template_columns": null,
            "flex": null,
            "_model_name": "LayoutModel",
            "justify_items": null,
            "grid_row": null,
            "max_height": null,
            "align_content": null,
            "visibility": null,
            "align_self": null,
            "height": null,
            "min_height": null,
            "padding": null,
            "grid_auto_rows": null,
            "grid_gap": null,
            "max_width": null,
            "order": null,
            "_view_module_version": "1.2.0",
            "grid_template_areas": null,
            "object_position": null,
            "object_fit": null,
            "grid_auto_columns": null,
            "margin": null,
            "display": null,
            "left": null
          }
        },
        "719e46d8706c48eb8ae2c0a90ecffa51": {
          "model_module": "@jupyter-widgets/controls",
          "model_name": "HBoxModel",
          "state": {
            "_view_name": "HBoxView",
            "_dom_classes": [],
            "_model_name": "HBoxModel",
            "_view_module": "@jupyter-widgets/controls",
            "_model_module_version": "1.5.0",
            "_view_count": null,
            "_view_module_version": "1.5.0",
            "box_style": "",
            "layout": "IPY_MODEL_882f3fae9bd8473a931acf6816f4263f",
            "_model_module": "@jupyter-widgets/controls",
            "children": [
              "IPY_MODEL_8e6c3fd81ec14b1ba9cfeac835f13b88",
              "IPY_MODEL_7e58b041fd964e5189e7a2ebbbf01156"
            ]
          }
        },
        "882f3fae9bd8473a931acf6816f4263f": {
          "model_module": "@jupyter-widgets/base",
          "model_name": "LayoutModel",
          "state": {
            "_view_name": "LayoutView",
            "grid_template_rows": null,
            "right": null,
            "justify_content": null,
            "_view_module": "@jupyter-widgets/base",
            "overflow": null,
            "_model_module_version": "1.2.0",
            "_view_count": null,
            "flex_flow": null,
            "width": null,
            "min_width": null,
            "border": null,
            "align_items": null,
            "bottom": null,
            "_model_module": "@jupyter-widgets/base",
            "top": null,
            "grid_column": null,
            "overflow_y": null,
            "overflow_x": null,
            "grid_auto_flow": null,
            "grid_area": null,
            "grid_template_columns": null,
            "flex": null,
            "_model_name": "LayoutModel",
            "justify_items": null,
            "grid_row": null,
            "max_height": null,
            "align_content": null,
            "visibility": null,
            "align_self": null,
            "height": null,
            "min_height": null,
            "padding": null,
            "grid_auto_rows": null,
            "grid_gap": null,
            "max_width": null,
            "order": null,
            "_view_module_version": "1.2.0",
            "grid_template_areas": null,
            "object_position": null,
            "object_fit": null,
            "grid_auto_columns": null,
            "margin": null,
            "display": null,
            "left": null
          }
        },
        "8e6c3fd81ec14b1ba9cfeac835f13b88": {
          "model_module": "@jupyter-widgets/controls",
          "model_name": "FloatProgressModel",
          "state": {
            "_view_name": "ProgressView",
            "style": "IPY_MODEL_2d04987944074bf792342b730c50ef14",
            "_dom_classes": [],
            "description": "Downloading: 100%",
            "_model_name": "FloatProgressModel",
            "bar_style": "success",
            "max": 498679497,
            "_view_module": "@jupyter-widgets/controls",
            "_model_module_version": "1.5.0",
            "value": 498679497,
            "_view_count": null,
            "_view_module_version": "1.5.0",
            "orientation": "horizontal",
            "min": 0,
            "description_tooltip": null,
            "_model_module": "@jupyter-widgets/controls",
            "layout": "IPY_MODEL_aa830f6fd83a436c9c27516205935155"
          }
        },
        "7e58b041fd964e5189e7a2ebbbf01156": {
          "model_module": "@jupyter-widgets/controls",
          "model_name": "HTMLModel",
          "state": {
            "_view_name": "HTMLView",
            "style": "IPY_MODEL_f5fc4b0ed247460ead22f58c9991dd37",
            "_dom_classes": [],
            "description": "",
            "_model_name": "HTMLModel",
            "placeholder": "​",
            "_view_module": "@jupyter-widgets/controls",
            "_model_module_version": "1.5.0",
            "value": " 499M/499M [00:18&lt;00:00, 26.6MB/s]",
            "_view_count": null,
            "_view_module_version": "1.5.0",
            "description_tooltip": null,
            "_model_module": "@jupyter-widgets/controls",
            "layout": "IPY_MODEL_a9f80cbd31e44a7bae17231e21d440c5"
          }
        },
        "2d04987944074bf792342b730c50ef14": {
          "model_module": "@jupyter-widgets/controls",
          "model_name": "ProgressStyleModel",
          "state": {
            "_view_name": "StyleView",
            "_model_name": "ProgressStyleModel",
            "description_width": "initial",
            "_view_module": "@jupyter-widgets/base",
            "_model_module_version": "1.5.0",
            "_view_count": null,
            "_view_module_version": "1.2.0",
            "bar_color": null,
            "_model_module": "@jupyter-widgets/controls"
          }
        },
        "aa830f6fd83a436c9c27516205935155": {
          "model_module": "@jupyter-widgets/base",
          "model_name": "LayoutModel",
          "state": {
            "_view_name": "LayoutView",
            "grid_template_rows": null,
            "right": null,
            "justify_content": null,
            "_view_module": "@jupyter-widgets/base",
            "overflow": null,
            "_model_module_version": "1.2.0",
            "_view_count": null,
            "flex_flow": null,
            "width": null,
            "min_width": null,
            "border": null,
            "align_items": null,
            "bottom": null,
            "_model_module": "@jupyter-widgets/base",
            "top": null,
            "grid_column": null,
            "overflow_y": null,
            "overflow_x": null,
            "grid_auto_flow": null,
            "grid_area": null,
            "grid_template_columns": null,
            "flex": null,
            "_model_name": "LayoutModel",
            "justify_items": null,
            "grid_row": null,
            "max_height": null,
            "align_content": null,
            "visibility": null,
            "align_self": null,
            "height": null,
            "min_height": null,
            "padding": null,
            "grid_auto_rows": null,
            "grid_gap": null,
            "max_width": null,
            "order": null,
            "_view_module_version": "1.2.0",
            "grid_template_areas": null,
            "object_position": null,
            "object_fit": null,
            "grid_auto_columns": null,
            "margin": null,
            "display": null,
            "left": null
          }
        },
        "f5fc4b0ed247460ead22f58c9991dd37": {
          "model_module": "@jupyter-widgets/controls",
          "model_name": "DescriptionStyleModel",
          "state": {
            "_view_name": "StyleView",
            "_model_name": "DescriptionStyleModel",
            "description_width": "",
            "_view_module": "@jupyter-widgets/base",
            "_model_module_version": "1.5.0",
            "_view_count": null,
            "_view_module_version": "1.2.0",
            "_model_module": "@jupyter-widgets/controls"
          }
        },
        "a9f80cbd31e44a7bae17231e21d440c5": {
          "model_module": "@jupyter-widgets/base",
          "model_name": "LayoutModel",
          "state": {
            "_view_name": "LayoutView",
            "grid_template_rows": null,
            "right": null,
            "justify_content": null,
            "_view_module": "@jupyter-widgets/base",
            "overflow": null,
            "_model_module_version": "1.2.0",
            "_view_count": null,
            "flex_flow": null,
            "width": null,
            "min_width": null,
            "border": null,
            "align_items": null,
            "bottom": null,
            "_model_module": "@jupyter-widgets/base",
            "top": null,
            "grid_column": null,
            "overflow_y": null,
            "overflow_x": null,
            "grid_auto_flow": null,
            "grid_area": null,
            "grid_template_columns": null,
            "flex": null,
            "_model_name": "LayoutModel",
            "justify_items": null,
            "grid_row": null,
            "max_height": null,
            "align_content": null,
            "visibility": null,
            "align_self": null,
            "height": null,
            "min_height": null,
            "padding": null,
            "grid_auto_rows": null,
            "grid_gap": null,
            "max_width": null,
            "order": null,
            "_view_module_version": "1.2.0",
            "grid_template_areas": null,
            "object_position": null,
            "object_fit": null,
            "grid_auto_columns": null,
            "margin": null,
            "display": null,
            "left": null
          }
        }
      }
    }
  },
  "cells": [
    {
      "cell_type": "markdown",
      "metadata": {
        "id": "qlaMUjgd21tU"
      },
      "source": [
        "#Fake data creation"
      ]
    },
    {
      "cell_type": "code",
      "metadata": {
        "colab": {
          "base_uri": "https://localhost:8080/"
        },
        "id": "eyzfi1SJIihw",
        "outputId": "1554a2c9-630c-4f98-a4b6-b9990e483cc4"
      },
      "source": [
        "!pip install faker"
      ],
      "execution_count": 1,
      "outputs": [
        {
          "output_type": "stream",
          "text": [
            "Collecting faker\n",
            "  Downloading Faker-8.10.3-py3-none-any.whl (1.2 MB)\n",
            "\u001b[?25l\r\u001b[K     |▎                               | 10 kB 28.9 MB/s eta 0:00:01\r\u001b[K     |▋                               | 20 kB 29.7 MB/s eta 0:00:01\r\u001b[K     |▉                               | 30 kB 20.3 MB/s eta 0:00:01\r\u001b[K     |█▏                              | 40 kB 17.3 MB/s eta 0:00:01\r\u001b[K     |█▍                              | 51 kB 8.3 MB/s eta 0:00:01\r\u001b[K     |█▊                              | 61 kB 8.6 MB/s eta 0:00:01\r\u001b[K     |██                              | 71 kB 8.8 MB/s eta 0:00:01\r\u001b[K     |██▎                             | 81 kB 8.4 MB/s eta 0:00:01\r\u001b[K     |██▌                             | 92 kB 8.7 MB/s eta 0:00:01\r\u001b[K     |██▉                             | 102 kB 7.9 MB/s eta 0:00:01\r\u001b[K     |███                             | 112 kB 7.9 MB/s eta 0:00:01\r\u001b[K     |███▍                            | 122 kB 7.9 MB/s eta 0:00:01\r\u001b[K     |███▋                            | 133 kB 7.9 MB/s eta 0:00:01\r\u001b[K     |████                            | 143 kB 7.9 MB/s eta 0:00:01\r\u001b[K     |████▏                           | 153 kB 7.9 MB/s eta 0:00:01\r\u001b[K     |████▌                           | 163 kB 7.9 MB/s eta 0:00:01\r\u001b[K     |████▊                           | 174 kB 7.9 MB/s eta 0:00:01\r\u001b[K     |█████                           | 184 kB 7.9 MB/s eta 0:00:01\r\u001b[K     |█████▎                          | 194 kB 7.9 MB/s eta 0:00:01\r\u001b[K     |█████▋                          | 204 kB 7.9 MB/s eta 0:00:01\r\u001b[K     |█████▉                          | 215 kB 7.9 MB/s eta 0:00:01\r\u001b[K     |██████▏                         | 225 kB 7.9 MB/s eta 0:00:01\r\u001b[K     |██████▍                         | 235 kB 7.9 MB/s eta 0:00:01\r\u001b[K     |██████▊                         | 245 kB 7.9 MB/s eta 0:00:01\r\u001b[K     |███████                         | 256 kB 7.9 MB/s eta 0:00:01\r\u001b[K     |███████▎                        | 266 kB 7.9 MB/s eta 0:00:01\r\u001b[K     |███████▌                        | 276 kB 7.9 MB/s eta 0:00:01\r\u001b[K     |███████▉                        | 286 kB 7.9 MB/s eta 0:00:01\r\u001b[K     |████████                        | 296 kB 7.9 MB/s eta 0:00:01\r\u001b[K     |████████▍                       | 307 kB 7.9 MB/s eta 0:00:01\r\u001b[K     |████████▊                       | 317 kB 7.9 MB/s eta 0:00:01\r\u001b[K     |█████████                       | 327 kB 7.9 MB/s eta 0:00:01\r\u001b[K     |█████████▎                      | 337 kB 7.9 MB/s eta 0:00:01\r\u001b[K     |█████████▌                      | 348 kB 7.9 MB/s eta 0:00:01\r\u001b[K     |█████████▉                      | 358 kB 7.9 MB/s eta 0:00:01\r\u001b[K     |██████████                      | 368 kB 7.9 MB/s eta 0:00:01\r\u001b[K     |██████████▍                     | 378 kB 7.9 MB/s eta 0:00:01\r\u001b[K     |██████████▋                     | 389 kB 7.9 MB/s eta 0:00:01\r\u001b[K     |███████████                     | 399 kB 7.9 MB/s eta 0:00:01\r\u001b[K     |███████████▏                    | 409 kB 7.9 MB/s eta 0:00:01\r\u001b[K     |███████████▌                    | 419 kB 7.9 MB/s eta 0:00:01\r\u001b[K     |███████████▊                    | 430 kB 7.9 MB/s eta 0:00:01\r\u001b[K     |████████████                    | 440 kB 7.9 MB/s eta 0:00:01\r\u001b[K     |████████████▎                   | 450 kB 7.9 MB/s eta 0:00:01\r\u001b[K     |████████████▋                   | 460 kB 7.9 MB/s eta 0:00:01\r\u001b[K     |████████████▉                   | 471 kB 7.9 MB/s eta 0:00:01\r\u001b[K     |█████████████▏                  | 481 kB 7.9 MB/s eta 0:00:01\r\u001b[K     |█████████████▍                  | 491 kB 7.9 MB/s eta 0:00:01\r\u001b[K     |█████████████▊                  | 501 kB 7.9 MB/s eta 0:00:01\r\u001b[K     |██████████████                  | 512 kB 7.9 MB/s eta 0:00:01\r\u001b[K     |██████████████▎                 | 522 kB 7.9 MB/s eta 0:00:01\r\u001b[K     |██████████████▌                 | 532 kB 7.9 MB/s eta 0:00:01\r\u001b[K     |██████████████▉                 | 542 kB 7.9 MB/s eta 0:00:01\r\u001b[K     |███████████████                 | 552 kB 7.9 MB/s eta 0:00:01\r\u001b[K     |███████████████▍                | 563 kB 7.9 MB/s eta 0:00:01\r\u001b[K     |███████████████▋                | 573 kB 7.9 MB/s eta 0:00:01\r\u001b[K     |████████████████                | 583 kB 7.9 MB/s eta 0:00:01\r\u001b[K     |████████████████▏               | 593 kB 7.9 MB/s eta 0:00:01\r\u001b[K     |████████████████▌               | 604 kB 7.9 MB/s eta 0:00:01\r\u001b[K     |████████████████▊               | 614 kB 7.9 MB/s eta 0:00:01\r\u001b[K     |█████████████████               | 624 kB 7.9 MB/s eta 0:00:01\r\u001b[K     |█████████████████▍              | 634 kB 7.9 MB/s eta 0:00:01\r\u001b[K     |█████████████████▋              | 645 kB 7.9 MB/s eta 0:00:01\r\u001b[K     |██████████████████              | 655 kB 7.9 MB/s eta 0:00:01\r\u001b[K     |██████████████████▏             | 665 kB 7.9 MB/s eta 0:00:01\r\u001b[K     |██████████████████▌             | 675 kB 7.9 MB/s eta 0:00:01\r\u001b[K     |██████████████████▊             | 686 kB 7.9 MB/s eta 0:00:01\r\u001b[K     |███████████████████             | 696 kB 7.9 MB/s eta 0:00:01\r\u001b[K     |███████████████████▎            | 706 kB 7.9 MB/s eta 0:00:01\r\u001b[K     |███████████████████▋            | 716 kB 7.9 MB/s eta 0:00:01\r\u001b[K     |███████████████████▉            | 727 kB 7.9 MB/s eta 0:00:01\r\u001b[K     |████████████████████▏           | 737 kB 7.9 MB/s eta 0:00:01\r\u001b[K     |████████████████████▍           | 747 kB 7.9 MB/s eta 0:00:01\r\u001b[K     |████████████████████▊           | 757 kB 7.9 MB/s eta 0:00:01\r\u001b[K     |█████████████████████           | 768 kB 7.9 MB/s eta 0:00:01\r\u001b[K     |█████████████████████▎          | 778 kB 7.9 MB/s eta 0:00:01\r\u001b[K     |█████████████████████▌          | 788 kB 7.9 MB/s eta 0:00:01\r\u001b[K     |█████████████████████▉          | 798 kB 7.9 MB/s eta 0:00:01\r\u001b[K     |██████████████████████          | 808 kB 7.9 MB/s eta 0:00:01\r\u001b[K     |██████████████████████▍         | 819 kB 7.9 MB/s eta 0:00:01\r\u001b[K     |██████████████████████▋         | 829 kB 7.9 MB/s eta 0:00:01\r\u001b[K     |███████████████████████         | 839 kB 7.9 MB/s eta 0:00:01\r\u001b[K     |███████████████████████▏        | 849 kB 7.9 MB/s eta 0:00:01\r\u001b[K     |███████████████████████▌        | 860 kB 7.9 MB/s eta 0:00:01\r\u001b[K     |███████████████████████▊        | 870 kB 7.9 MB/s eta 0:00:01\r\u001b[K     |████████████████████████        | 880 kB 7.9 MB/s eta 0:00:01\r\u001b[K     |████████████████████████▎       | 890 kB 7.9 MB/s eta 0:00:01\r\u001b[K     |████████████████████████▋       | 901 kB 7.9 MB/s eta 0:00:01\r\u001b[K     |████████████████████████▉       | 911 kB 7.9 MB/s eta 0:00:01\r\u001b[K     |█████████████████████████▏      | 921 kB 7.9 MB/s eta 0:00:01\r\u001b[K     |█████████████████████████▍      | 931 kB 7.9 MB/s eta 0:00:01\r\u001b[K     |█████████████████████████▊      | 942 kB 7.9 MB/s eta 0:00:01\r\u001b[K     |██████████████████████████      | 952 kB 7.9 MB/s eta 0:00:01\r\u001b[K     |██████████████████████████▎     | 962 kB 7.9 MB/s eta 0:00:01\r\u001b[K     |██████████████████████████▋     | 972 kB 7.9 MB/s eta 0:00:01\r\u001b[K     |██████████████████████████▉     | 983 kB 7.9 MB/s eta 0:00:01\r\u001b[K     |███████████████████████████▏    | 993 kB 7.9 MB/s eta 0:00:01\r\u001b[K     |███████████████████████████▍    | 1.0 MB 7.9 MB/s eta 0:00:01\r\u001b[K     |███████████████████████████▊    | 1.0 MB 7.9 MB/s eta 0:00:01\r\u001b[K     |████████████████████████████    | 1.0 MB 7.9 MB/s eta 0:00:01\r\u001b[K     |████████████████████████████▎   | 1.0 MB 7.9 MB/s eta 0:00:01\r\u001b[K     |████████████████████████████▌   | 1.0 MB 7.9 MB/s eta 0:00:01\r\u001b[K     |████████████████████████████▉   | 1.1 MB 7.9 MB/s eta 0:00:01\r\u001b[K     |█████████████████████████████   | 1.1 MB 7.9 MB/s eta 0:00:01\r\u001b[K     |█████████████████████████████▍  | 1.1 MB 7.9 MB/s eta 0:00:01\r\u001b[K     |█████████████████████████████▋  | 1.1 MB 7.9 MB/s eta 0:00:01\r\u001b[K     |██████████████████████████████  | 1.1 MB 7.9 MB/s eta 0:00:01\r\u001b[K     |██████████████████████████████▏ | 1.1 MB 7.9 MB/s eta 0:00:01\r\u001b[K     |██████████████████████████████▌ | 1.1 MB 7.9 MB/s eta 0:00:01\r\u001b[K     |██████████████████████████████▊ | 1.1 MB 7.9 MB/s eta 0:00:01\r\u001b[K     |███████████████████████████████ | 1.1 MB 7.9 MB/s eta 0:00:01\r\u001b[K     |███████████████████████████████▎| 1.1 MB 7.9 MB/s eta 0:00:01\r\u001b[K     |███████████████████████████████▋| 1.2 MB 7.9 MB/s eta 0:00:01\r\u001b[K     |███████████████████████████████▉| 1.2 MB 7.9 MB/s eta 0:00:01\r\u001b[K     |████████████████████████████████| 1.2 MB 7.9 MB/s \n",
            "\u001b[?25hRequirement already satisfied: text-unidecode==1.3 in /usr/local/lib/python3.7/dist-packages (from faker) (1.3)\n",
            "Requirement already satisfied: python-dateutil>=2.4 in /usr/local/lib/python3.7/dist-packages (from faker) (2.8.1)\n",
            "Requirement already satisfied: six>=1.5 in /usr/local/lib/python3.7/dist-packages (from python-dateutil>=2.4->faker) (1.15.0)\n",
            "Installing collected packages: faker\n",
            "Successfully installed faker-8.10.3\n"
          ],
          "name": "stdout"
        }
      ]
    },
    {
      "cell_type": "code",
      "metadata": {
        "id": "OcviJK92IAWw"
      },
      "source": [
        "from faker import Faker\n",
        "import random\n",
        "import pandas as pd\n",
        "\n",
        "\n",
        "faker = Faker()\n",
        "rating=[0.5,1,1.5,2,2.5,3,3.5,4,4.5,5]\n",
        "data=[]\n",
        "pid=[]\n",
        "################product_info\n",
        "for i in range(100):\n",
        "  temp={}\n",
        "  temp['prodId']=i\n",
        "  temp['name']=faker.sentence(nb_words=3,variable_nb_words=True)[:-1]\n",
        "  temp['description']=faker.sentence()\n",
        "  temp['category']=random.randrange(8)\n",
        "  data.append(temp)\n",
        "prod_info=pd.DataFrame(data)\n",
        "pid=prod_info['prodId'].to_list()\n",
        "prod_info.to_csv('prod_info.csv')\n",
        "\n",
        "################rating review\n",
        "data=[]\n",
        "for i in range(2000):\n",
        "  temp={}\n",
        "  temp['userId']=random.randrange(100)\n",
        "  temp['prodId']=random.choice(pid)\n",
        "  temp['product review']=faker.sentence()\n",
        "  temp['rating']=random.choice(rating)\n",
        "  # temp['rating count']=random.randrange(1000)\n",
        "  data.append(temp)\n",
        "rat_info=pd.DataFrame(data)\n",
        "rat_info.to_csv('rat_info.csv')\n",
        "\n",
        "#################users history\n",
        "data=[]\n",
        "for i in range(1000):\n",
        "  temp={}\n",
        "  temp['timestemp']=i\n",
        "  temp['userId']=random.randrange(100)\n",
        "  temp['prodId']=random.choice(pid)\n",
        "  data.append(temp)\n",
        "uhis_info=pd.DataFrame(data)\n",
        "uhis_info.to_csv('uhis_info.csv')\n",
        "# \"\"\"id\n",
        "# name\n",
        "# category\n",
        "# rating\n",
        "# reviews\n",
        "# description\"\"\"\n"
      ],
      "execution_count": 2,
      "outputs": []
    },
    {
      "cell_type": "code",
      "metadata": {
        "colab": {
          "base_uri": "https://localhost:8080/",
          "height": 359
        },
        "id": "DdA9aOFXIu1B",
        "outputId": "9d0e6eac-5a57-4aad-b245-47fc968fc8ea"
      },
      "source": [
        "prod_info.head(10)"
      ],
      "execution_count": 3,
      "outputs": [
        {
          "output_type": "execute_result",
          "data": {
            "text/html": [
              "<div>\n",
              "<style scoped>\n",
              "    .dataframe tbody tr th:only-of-type {\n",
              "        vertical-align: middle;\n",
              "    }\n",
              "\n",
              "    .dataframe tbody tr th {\n",
              "        vertical-align: top;\n",
              "    }\n",
              "\n",
              "    .dataframe thead th {\n",
              "        text-align: right;\n",
              "    }\n",
              "</style>\n",
              "<table border=\"1\" class=\"dataframe\">\n",
              "  <thead>\n",
              "    <tr style=\"text-align: right;\">\n",
              "      <th></th>\n",
              "      <th>prodId</th>\n",
              "      <th>name</th>\n",
              "      <th>description</th>\n",
              "      <th>category</th>\n",
              "    </tr>\n",
              "  </thead>\n",
              "  <tbody>\n",
              "    <tr>\n",
              "      <th>0</th>\n",
              "      <td>0</td>\n",
              "      <td>Manager easy service nearly</td>\n",
              "      <td>Seem until physical more professional.</td>\n",
              "      <td>6</td>\n",
              "    </tr>\n",
              "    <tr>\n",
              "      <th>1</th>\n",
              "      <td>1</td>\n",
              "      <td>Dinner various among pick</td>\n",
              "      <td>Include why collection build hold house on rel...</td>\n",
              "      <td>4</td>\n",
              "    </tr>\n",
              "    <tr>\n",
              "      <th>2</th>\n",
              "      <td>2</td>\n",
              "      <td>While large</td>\n",
              "      <td>Occur painting front goal present.</td>\n",
              "      <td>0</td>\n",
              "    </tr>\n",
              "    <tr>\n",
              "      <th>3</th>\n",
              "      <td>3</td>\n",
              "      <td>Six</td>\n",
              "      <td>During fall along reality name recently medical.</td>\n",
              "      <td>7</td>\n",
              "    </tr>\n",
              "    <tr>\n",
              "      <th>4</th>\n",
              "      <td>4</td>\n",
              "      <td>Young me international</td>\n",
              "      <td>Debate daughter moment outside message black p...</td>\n",
              "      <td>3</td>\n",
              "    </tr>\n",
              "    <tr>\n",
              "      <th>5</th>\n",
              "      <td>5</td>\n",
              "      <td>Start knowledge friend</td>\n",
              "      <td>Add civil baby decision.</td>\n",
              "      <td>1</td>\n",
              "    </tr>\n",
              "    <tr>\n",
              "      <th>6</th>\n",
              "      <td>6</td>\n",
              "      <td>Own important financial</td>\n",
              "      <td>Thought town apply moment.</td>\n",
              "      <td>3</td>\n",
              "    </tr>\n",
              "    <tr>\n",
              "      <th>7</th>\n",
              "      <td>7</td>\n",
              "      <td>Smile partner argue</td>\n",
              "      <td>Specific never point sport quality dark.</td>\n",
              "      <td>3</td>\n",
              "    </tr>\n",
              "    <tr>\n",
              "      <th>8</th>\n",
              "      <td>8</td>\n",
              "      <td>Light</td>\n",
              "      <td>Help boy pretty stand director front beat staff.</td>\n",
              "      <td>0</td>\n",
              "    </tr>\n",
              "    <tr>\n",
              "      <th>9</th>\n",
              "      <td>9</td>\n",
              "      <td>State we during</td>\n",
              "      <td>Save require forget inside.</td>\n",
              "      <td>1</td>\n",
              "    </tr>\n",
              "  </tbody>\n",
              "</table>\n",
              "</div>"
            ],
            "text/plain": [
              "   prodId  ... category\n",
              "0       0  ...        6\n",
              "1       1  ...        4\n",
              "2       2  ...        0\n",
              "3       3  ...        7\n",
              "4       4  ...        3\n",
              "5       5  ...        1\n",
              "6       6  ...        3\n",
              "7       7  ...        3\n",
              "8       8  ...        0\n",
              "9       9  ...        1\n",
              "\n",
              "[10 rows x 4 columns]"
            ]
          },
          "metadata": {
            "tags": []
          },
          "execution_count": 3
        }
      ]
    },
    {
      "cell_type": "code",
      "metadata": {
        "colab": {
          "base_uri": "https://localhost:8080/",
          "height": 359
        },
        "id": "Te_ZtHvfRWKN",
        "outputId": "40200312-6897-4d75-e58c-e2eb3d5ff744"
      },
      "source": [
        "rat_info.head(10)"
      ],
      "execution_count": 4,
      "outputs": [
        {
          "output_type": "execute_result",
          "data": {
            "text/html": [
              "<div>\n",
              "<style scoped>\n",
              "    .dataframe tbody tr th:only-of-type {\n",
              "        vertical-align: middle;\n",
              "    }\n",
              "\n",
              "    .dataframe tbody tr th {\n",
              "        vertical-align: top;\n",
              "    }\n",
              "\n",
              "    .dataframe thead th {\n",
              "        text-align: right;\n",
              "    }\n",
              "</style>\n",
              "<table border=\"1\" class=\"dataframe\">\n",
              "  <thead>\n",
              "    <tr style=\"text-align: right;\">\n",
              "      <th></th>\n",
              "      <th>userId</th>\n",
              "      <th>prodId</th>\n",
              "      <th>product review</th>\n",
              "      <th>rating</th>\n",
              "    </tr>\n",
              "  </thead>\n",
              "  <tbody>\n",
              "    <tr>\n",
              "      <th>0</th>\n",
              "      <td>14</td>\n",
              "      <td>6</td>\n",
              "      <td>Power although sign radio western family.</td>\n",
              "      <td>5.0</td>\n",
              "    </tr>\n",
              "    <tr>\n",
              "      <th>1</th>\n",
              "      <td>64</td>\n",
              "      <td>32</td>\n",
              "      <td>Half like air hope space table art.</td>\n",
              "      <td>3.0</td>\n",
              "    </tr>\n",
              "    <tr>\n",
              "      <th>2</th>\n",
              "      <td>26</td>\n",
              "      <td>53</td>\n",
              "      <td>Expect state sort buy next.</td>\n",
              "      <td>2.0</td>\n",
              "    </tr>\n",
              "    <tr>\n",
              "      <th>3</th>\n",
              "      <td>52</td>\n",
              "      <td>70</td>\n",
              "      <td>Give rise how.</td>\n",
              "      <td>2.0</td>\n",
              "    </tr>\n",
              "    <tr>\n",
              "      <th>4</th>\n",
              "      <td>97</td>\n",
              "      <td>89</td>\n",
              "      <td>Author though table sit main just ready smile.</td>\n",
              "      <td>0.5</td>\n",
              "    </tr>\n",
              "    <tr>\n",
              "      <th>5</th>\n",
              "      <td>0</td>\n",
              "      <td>47</td>\n",
              "      <td>I money parent right.</td>\n",
              "      <td>0.5</td>\n",
              "    </tr>\n",
              "    <tr>\n",
              "      <th>6</th>\n",
              "      <td>22</td>\n",
              "      <td>3</td>\n",
              "      <td>Job quality answer fill.</td>\n",
              "      <td>3.5</td>\n",
              "    </tr>\n",
              "    <tr>\n",
              "      <th>7</th>\n",
              "      <td>45</td>\n",
              "      <td>14</td>\n",
              "      <td>May fish cold.</td>\n",
              "      <td>0.5</td>\n",
              "    </tr>\n",
              "    <tr>\n",
              "      <th>8</th>\n",
              "      <td>66</td>\n",
              "      <td>14</td>\n",
              "      <td>Operation training culture book central remain.</td>\n",
              "      <td>5.0</td>\n",
              "    </tr>\n",
              "    <tr>\n",
              "      <th>9</th>\n",
              "      <td>67</td>\n",
              "      <td>30</td>\n",
              "      <td>Tough church already prevent various stuff.</td>\n",
              "      <td>4.5</td>\n",
              "    </tr>\n",
              "  </tbody>\n",
              "</table>\n",
              "</div>"
            ],
            "text/plain": [
              "   userId  prodId                                   product review  rating\n",
              "0      14       6        Power although sign radio western family.     5.0\n",
              "1      64      32              Half like air hope space table art.     3.0\n",
              "2      26      53                      Expect state sort buy next.     2.0\n",
              "3      52      70                                   Give rise how.     2.0\n",
              "4      97      89   Author though table sit main just ready smile.     0.5\n",
              "5       0      47                            I money parent right.     0.5\n",
              "6      22       3                         Job quality answer fill.     3.5\n",
              "7      45      14                                   May fish cold.     0.5\n",
              "8      66      14  Operation training culture book central remain.     5.0\n",
              "9      67      30      Tough church already prevent various stuff.     4.5"
            ]
          },
          "metadata": {
            "tags": []
          },
          "execution_count": 4
        }
      ]
    },
    {
      "cell_type": "code",
      "metadata": {
        "colab": {
          "base_uri": "https://localhost:8080/",
          "height": 359
        },
        "id": "KiVLVBKvRV1t",
        "outputId": "6ed3d16d-5664-4af0-bfee-578a5ffec6fa"
      },
      "source": [
        "uhis_info.head(10)"
      ],
      "execution_count": 5,
      "outputs": [
        {
          "output_type": "execute_result",
          "data": {
            "text/html": [
              "<div>\n",
              "<style scoped>\n",
              "    .dataframe tbody tr th:only-of-type {\n",
              "        vertical-align: middle;\n",
              "    }\n",
              "\n",
              "    .dataframe tbody tr th {\n",
              "        vertical-align: top;\n",
              "    }\n",
              "\n",
              "    .dataframe thead th {\n",
              "        text-align: right;\n",
              "    }\n",
              "</style>\n",
              "<table border=\"1\" class=\"dataframe\">\n",
              "  <thead>\n",
              "    <tr style=\"text-align: right;\">\n",
              "      <th></th>\n",
              "      <th>timestemp</th>\n",
              "      <th>userId</th>\n",
              "      <th>prodId</th>\n",
              "    </tr>\n",
              "  </thead>\n",
              "  <tbody>\n",
              "    <tr>\n",
              "      <th>0</th>\n",
              "      <td>0</td>\n",
              "      <td>80</td>\n",
              "      <td>74</td>\n",
              "    </tr>\n",
              "    <tr>\n",
              "      <th>1</th>\n",
              "      <td>1</td>\n",
              "      <td>60</td>\n",
              "      <td>75</td>\n",
              "    </tr>\n",
              "    <tr>\n",
              "      <th>2</th>\n",
              "      <td>2</td>\n",
              "      <td>94</td>\n",
              "      <td>7</td>\n",
              "    </tr>\n",
              "    <tr>\n",
              "      <th>3</th>\n",
              "      <td>3</td>\n",
              "      <td>73</td>\n",
              "      <td>52</td>\n",
              "    </tr>\n",
              "    <tr>\n",
              "      <th>4</th>\n",
              "      <td>4</td>\n",
              "      <td>24</td>\n",
              "      <td>1</td>\n",
              "    </tr>\n",
              "    <tr>\n",
              "      <th>5</th>\n",
              "      <td>5</td>\n",
              "      <td>88</td>\n",
              "      <td>17</td>\n",
              "    </tr>\n",
              "    <tr>\n",
              "      <th>6</th>\n",
              "      <td>6</td>\n",
              "      <td>18</td>\n",
              "      <td>1</td>\n",
              "    </tr>\n",
              "    <tr>\n",
              "      <th>7</th>\n",
              "      <td>7</td>\n",
              "      <td>42</td>\n",
              "      <td>18</td>\n",
              "    </tr>\n",
              "    <tr>\n",
              "      <th>8</th>\n",
              "      <td>8</td>\n",
              "      <td>79</td>\n",
              "      <td>8</td>\n",
              "    </tr>\n",
              "    <tr>\n",
              "      <th>9</th>\n",
              "      <td>9</td>\n",
              "      <td>1</td>\n",
              "      <td>43</td>\n",
              "    </tr>\n",
              "  </tbody>\n",
              "</table>\n",
              "</div>"
            ],
            "text/plain": [
              "   timestemp  userId  prodId\n",
              "0          0      80      74\n",
              "1          1      60      75\n",
              "2          2      94       7\n",
              "3          3      73      52\n",
              "4          4      24       1\n",
              "5          5      88      17\n",
              "6          6      18       1\n",
              "7          7      42      18\n",
              "8          8      79       8\n",
              "9          9       1      43"
            ]
          },
          "metadata": {
            "tags": []
          },
          "execution_count": 5
        }
      ]
    },
    {
      "cell_type": "code",
      "metadata": {
        "colab": {
          "base_uri": "https://localhost:8080/"
        },
        "id": "vF_abyhaAXgI",
        "outputId": "69c51df6-a836-4723-d597-93064f3f15ea"
      },
      "source": [
        "prod_info['prodId'].nunique()"
      ],
      "execution_count": 6,
      "outputs": [
        {
          "output_type": "execute_result",
          "data": {
            "text/plain": [
              "100"
            ]
          },
          "metadata": {
            "tags": []
          },
          "execution_count": 6
        }
      ]
    },
    {
      "cell_type": "code",
      "metadata": {
        "colab": {
          "base_uri": "https://localhost:8080/"
        },
        "id": "qkhvqe6OEplX",
        "outputId": "2fa7bb33-ae9c-4676-dd0e-cd318c2feabc"
      },
      "source": [
        "rat_info.groupby('prodId')['userId'].nunique()"
      ],
      "execution_count": 7,
      "outputs": [
        {
          "output_type": "execute_result",
          "data": {
            "text/plain": [
              "prodId\n",
              "0     17\n",
              "1     22\n",
              "2     18\n",
              "3     18\n",
              "4     15\n",
              "      ..\n",
              "95    18\n",
              "96    16\n",
              "97    19\n",
              "98    21\n",
              "99    10\n",
              "Name: userId, Length: 100, dtype: int64"
            ]
          },
          "metadata": {
            "tags": []
          },
          "execution_count": 7
        }
      ]
    },
    {
      "cell_type": "code",
      "metadata": {
        "colab": {
          "base_uri": "https://localhost:8080/",
          "height": 450
        },
        "id": "H4azHHfhEXls",
        "outputId": "6ab9c623-1d7e-4e25-bc00-10133abb7365"
      },
      "source": [
        "uhis_info.groupby('prodId').nunique()"
      ],
      "execution_count": 8,
      "outputs": [
        {
          "output_type": "execute_result",
          "data": {
            "text/html": [
              "<div>\n",
              "<style scoped>\n",
              "    .dataframe tbody tr th:only-of-type {\n",
              "        vertical-align: middle;\n",
              "    }\n",
              "\n",
              "    .dataframe tbody tr th {\n",
              "        vertical-align: top;\n",
              "    }\n",
              "\n",
              "    .dataframe thead th {\n",
              "        text-align: right;\n",
              "    }\n",
              "</style>\n",
              "<table border=\"1\" class=\"dataframe\">\n",
              "  <thead>\n",
              "    <tr style=\"text-align: right;\">\n",
              "      <th></th>\n",
              "      <th>timestemp</th>\n",
              "      <th>userId</th>\n",
              "    </tr>\n",
              "    <tr>\n",
              "      <th>prodId</th>\n",
              "      <th></th>\n",
              "      <th></th>\n",
              "    </tr>\n",
              "  </thead>\n",
              "  <tbody>\n",
              "    <tr>\n",
              "      <th>0</th>\n",
              "      <td>13</td>\n",
              "      <td>12</td>\n",
              "    </tr>\n",
              "    <tr>\n",
              "      <th>1</th>\n",
              "      <td>13</td>\n",
              "      <td>12</td>\n",
              "    </tr>\n",
              "    <tr>\n",
              "      <th>2</th>\n",
              "      <td>13</td>\n",
              "      <td>13</td>\n",
              "    </tr>\n",
              "    <tr>\n",
              "      <th>3</th>\n",
              "      <td>14</td>\n",
              "      <td>12</td>\n",
              "    </tr>\n",
              "    <tr>\n",
              "      <th>4</th>\n",
              "      <td>10</td>\n",
              "      <td>10</td>\n",
              "    </tr>\n",
              "    <tr>\n",
              "      <th>...</th>\n",
              "      <td>...</td>\n",
              "      <td>...</td>\n",
              "    </tr>\n",
              "    <tr>\n",
              "      <th>95</th>\n",
              "      <td>5</td>\n",
              "      <td>5</td>\n",
              "    </tr>\n",
              "    <tr>\n",
              "      <th>96</th>\n",
              "      <td>16</td>\n",
              "      <td>15</td>\n",
              "    </tr>\n",
              "    <tr>\n",
              "      <th>97</th>\n",
              "      <td>10</td>\n",
              "      <td>8</td>\n",
              "    </tr>\n",
              "    <tr>\n",
              "      <th>98</th>\n",
              "      <td>10</td>\n",
              "      <td>10</td>\n",
              "    </tr>\n",
              "    <tr>\n",
              "      <th>99</th>\n",
              "      <td>12</td>\n",
              "      <td>12</td>\n",
              "    </tr>\n",
              "  </tbody>\n",
              "</table>\n",
              "<p>100 rows × 2 columns</p>\n",
              "</div>"
            ],
            "text/plain": [
              "        timestemp  userId\n",
              "prodId                   \n",
              "0              13      12\n",
              "1              13      12\n",
              "2              13      13\n",
              "3              14      12\n",
              "4              10      10\n",
              "...           ...     ...\n",
              "95              5       5\n",
              "96             16      15\n",
              "97             10       8\n",
              "98             10      10\n",
              "99             12      12\n",
              "\n",
              "[100 rows x 2 columns]"
            ]
          },
          "metadata": {
            "tags": []
          },
          "execution_count": 8
        }
      ]
    },
    {
      "cell_type": "markdown",
      "metadata": {
        "id": "IuRRVZzC3PVU"
      },
      "source": [
        "#Popular products and counts of urls visited by user"
      ]
    },
    {
      "cell_type": "markdown",
      "metadata": {
        "id": "vrInCvNf006n"
      },
      "source": [
        "count visited url per product (popular product)"
      ]
    },
    {
      "cell_type": "code",
      "metadata": {
        "id": "yijHu5zfBKdx"
      },
      "source": [
        "import pandas as pd\n",
        "prod_info_path='prod_info.csv'\n",
        "rat_info_path='rat_info.csv'\n",
        "uhis_info_path='uhis_info.csv'\n",
        "prod_info=pd.read_csv(prod_info_path,index_col=0)\n",
        "rat_info=pd.read_csv(rat_info_path,index_col=0)\n",
        "uhis_info=pd.read_csv(uhis_info_path,index_col=0)\n"
      ],
      "execution_count": 9,
      "outputs": []
    },
    {
      "cell_type": "code",
      "metadata": {
        "id": "GgVsFeJT3Otr"
      },
      "source": [
        "uhis_info['product_visitor_count']=uhis_info.groupby('prodId')['prodId'].transform('count')\n",
        "#df=pd.read_csv('sample-data.csv', low_memory=False)"
      ],
      "execution_count": 10,
      "outputs": []
    },
    {
      "cell_type": "code",
      "metadata": {
        "id": "6cwS10e2BjrI"
      },
      "source": [
        "uhis_info_p=uhis_info.drop_duplicates(subset='prodId', keep=\"last\")\n",
        "prod_info= prod_info.merge(uhis_info_p[['prodId','product_visitor_count']],on=['prodId'],how='outer')"
      ],
      "execution_count": 11,
      "outputs": []
    },
    {
      "cell_type": "code",
      "metadata": {
        "id": "_zwhYfD9Ab4u"
      },
      "source": [
        "prod_info['product_visitor_count']=prod_info['product_visitor_count'].fillna(0)"
      ],
      "execution_count": 12,
      "outputs": []
    },
    {
      "cell_type": "code",
      "metadata": {
        "id": "M5pnP01nwy9T"
      },
      "source": [
        "prod_info['product_visitor_count'] = (prod_info['product_visitor_count'] - prod_info['product_visitor_count'].min()) / (prod_info['product_visitor_count'].max() - prod_info['product_visitor_count'].min())    \n"
      ],
      "execution_count": 13,
      "outputs": []
    },
    {
      "cell_type": "code",
      "metadata": {
        "id": "5RWa-j9uBfER"
      },
      "source": [
        "uhis_info=uhis_info.drop(['product_visitor_count'],axis=1)"
      ],
      "execution_count": 14,
      "outputs": []
    },
    {
      "cell_type": "markdown",
      "metadata": {
        "id": "1_XyN1aO2Lj0"
      },
      "source": [
        "prod_info have new column with visiter count  \n",
        "while uhistInfo have update column with prodId with normalization "
      ]
    },
    {
      "cell_type": "markdown",
      "metadata": {
        "id": "i0zToSMYJB9F"
      },
      "source": [
        "#Weighted Avarage"
      ]
    },
    {
      "cell_type": "code",
      "metadata": {
        "id": "vbi5VOstKLw0"
      },
      "source": [
        "rat_prod=rat_info.groupby([\"prodId\"],as_index=False).agg(rat_count=pd.NamedAgg(column=\"rating\", aggfunc=\"count\"),rat_avrg=pd.NamedAgg(column=\"rating\", aggfunc=\"mean\"))\n",
        "# rat_info_data=rat_info.groupby([\"pid\"]).agg(rat_count=pd.NamedAgg(column=\"rating\", aggfunc=\"count\"),rat_avrg=pd.NamedAgg(column=\"rating\", aggfunc=\"mean\"))\n",
        "# rat_info['rat_avrg']=rat_info.groupby(['pid']).mean()"
      ],
      "execution_count": 15,
      "outputs": []
    },
    {
      "cell_type": "markdown",
      "metadata": {
        "id": "Vv4hoN2MTiM6"
      },
      "source": [
        "Formula:\n",
        "(v/(v+m) * R) + (m/(m+v) * C)\n",
        "\n",
        "---\n",
        "\n",
        "\n",
        "v is the number of ratings  \n",
        "m is the minimum rating count required to be listed in the data  \n",
        "R is the average rating of the product  \n",
        "C is the mean vote across the whole data."
      ]
    },
    {
      "cell_type": "code",
      "metadata": {
        "colab": {
          "base_uri": "https://localhost:8080/"
        },
        "id": "0NKh_178Lzfm",
        "outputId": "c37c8611-afa5-4b6f-878c-bf7c3a1be039"
      },
      "source": [
        "C = rat_prod['rat_avrg'].mean()\n",
        "C"
      ],
      "execution_count": 16,
      "outputs": [
        {
          "output_type": "execute_result",
          "data": {
            "text/plain": [
              "2.837896526676891"
            ]
          },
          "metadata": {
            "tags": []
          },
          "execution_count": 16
        }
      ]
    },
    {
      "cell_type": "code",
      "metadata": {
        "colab": {
          "base_uri": "https://localhost:8080/"
        },
        "id": "2c_KbzynMlVd",
        "outputId": "99530b67-6c67-4437-a93f-5b395e435e79"
      },
      "source": [
        "m = rat_prod['rat_count'].quantile(0.90)\n",
        "m"
      ],
      "execution_count": 17,
      "outputs": [
        {
          "output_type": "execute_result",
          "data": {
            "text/plain": [
              "26.0"
            ]
          },
          "metadata": {
            "tags": []
          },
          "execution_count": 17
        }
      ]
    },
    {
      "cell_type": "markdown",
      "metadata": {
        "id": "AKM6l8yv3MxX"
      },
      "source": [
        "only qulified products"
      ]
    },
    {
      "cell_type": "code",
      "metadata": {
        "id": "CAGqudBEVT9w"
      },
      "source": [
        "def weighted_rating(x, m=m, C=C):\n",
        "    v = x['rat_count']\n",
        "    R = x['rat_avrg']\n",
        "    return (v/(v+m) * R) + (m/(m+v) * C)\n",
        "rat_prod['rscore'] = rat_prod.apply(weighted_rating, axis=1)"
      ],
      "execution_count": 18,
      "outputs": []
    },
    {
      "cell_type": "code",
      "metadata": {
        "id": "HtxroZz-eHHx"
      },
      "source": [
        "prod_info_final=prod_info.merge(rat_prod,on='prodId')"
      ],
      "execution_count": 19,
      "outputs": []
    },
    {
      "cell_type": "markdown",
      "metadata": {
        "id": "Var7WLY1gJb6"
      },
      "source": [
        "#Sentiment of text review"
      ]
    },
    {
      "cell_type": "markdown",
      "metadata": {
        "id": "EJQm5-NuBJ93"
      },
      "source": [
        "huggingface"
      ]
    },
    {
      "cell_type": "code",
      "metadata": {
        "colab": {
          "base_uri": "https://localhost:8080/"
        },
        "id": "YhLN3FFcLyxf",
        "outputId": "8d91ce3b-10c0-4d3a-c59d-6f1cf2bc7d06"
      },
      "source": [
        "!pip install transformers"
      ],
      "execution_count": 20,
      "outputs": [
        {
          "output_type": "stream",
          "text": [
            "Collecting transformers\n",
            "  Downloading transformers-4.9.1-py3-none-any.whl (2.6 MB)\n",
            "\u001b[K     |████████████████████████████████| 2.6 MB 7.7 MB/s \n",
            "\u001b[?25hRequirement already satisfied: regex!=2019.12.17 in /usr/local/lib/python3.7/dist-packages (from transformers) (2019.12.20)\n",
            "Requirement already satisfied: requests in /usr/local/lib/python3.7/dist-packages (from transformers) (2.23.0)\n",
            "Collecting pyyaml>=5.1\n",
            "  Downloading PyYAML-5.4.1-cp37-cp37m-manylinux1_x86_64.whl (636 kB)\n",
            "\u001b[K     |████████████████████████████████| 636 kB 53.0 MB/s \n",
            "\u001b[?25hRequirement already satisfied: filelock in /usr/local/lib/python3.7/dist-packages (from transformers) (3.0.12)\n",
            "Collecting sacremoses\n",
            "  Downloading sacremoses-0.0.45-py3-none-any.whl (895 kB)\n",
            "\u001b[K     |████████████████████████████████| 895 kB 53.6 MB/s \n",
            "\u001b[?25hRequirement already satisfied: importlib-metadata in /usr/local/lib/python3.7/dist-packages (from transformers) (4.6.1)\n",
            "Collecting tokenizers<0.11,>=0.10.1\n",
            "  Downloading tokenizers-0.10.3-cp37-cp37m-manylinux_2_5_x86_64.manylinux1_x86_64.manylinux_2_12_x86_64.manylinux2010_x86_64.whl (3.3 MB)\n",
            "\u001b[K     |████████████████████████████████| 3.3 MB 50.1 MB/s \n",
            "\u001b[?25hRequirement already satisfied: packaging in /usr/local/lib/python3.7/dist-packages (from transformers) (21.0)\n",
            "Collecting huggingface-hub==0.0.12\n",
            "  Downloading huggingface_hub-0.0.12-py3-none-any.whl (37 kB)\n",
            "Requirement already satisfied: tqdm>=4.27 in /usr/local/lib/python3.7/dist-packages (from transformers) (4.41.1)\n",
            "Requirement already satisfied: numpy>=1.17 in /usr/local/lib/python3.7/dist-packages (from transformers) (1.19.5)\n",
            "Requirement already satisfied: typing-extensions in /usr/local/lib/python3.7/dist-packages (from huggingface-hub==0.0.12->transformers) (3.7.4.3)\n",
            "Requirement already satisfied: pyparsing>=2.0.2 in /usr/local/lib/python3.7/dist-packages (from packaging->transformers) (2.4.7)\n",
            "Requirement already satisfied: zipp>=0.5 in /usr/local/lib/python3.7/dist-packages (from importlib-metadata->transformers) (3.5.0)\n",
            "Requirement already satisfied: certifi>=2017.4.17 in /usr/local/lib/python3.7/dist-packages (from requests->transformers) (2021.5.30)\n",
            "Requirement already satisfied: idna<3,>=2.5 in /usr/local/lib/python3.7/dist-packages (from requests->transformers) (2.10)\n",
            "Requirement already satisfied: chardet<4,>=3.0.2 in /usr/local/lib/python3.7/dist-packages (from requests->transformers) (3.0.4)\n",
            "Requirement already satisfied: urllib3!=1.25.0,!=1.25.1,<1.26,>=1.21.1 in /usr/local/lib/python3.7/dist-packages (from requests->transformers) (1.24.3)\n",
            "Requirement already satisfied: click in /usr/local/lib/python3.7/dist-packages (from sacremoses->transformers) (7.1.2)\n",
            "Requirement already satisfied: six in /usr/local/lib/python3.7/dist-packages (from sacremoses->transformers) (1.15.0)\n",
            "Requirement already satisfied: joblib in /usr/local/lib/python3.7/dist-packages (from sacremoses->transformers) (1.0.1)\n",
            "Installing collected packages: tokenizers, sacremoses, pyyaml, huggingface-hub, transformers\n",
            "  Attempting uninstall: pyyaml\n",
            "    Found existing installation: PyYAML 3.13\n",
            "    Uninstalling PyYAML-3.13:\n",
            "      Successfully uninstalled PyYAML-3.13\n",
            "Successfully installed huggingface-hub-0.0.12 pyyaml-5.4.1 sacremoses-0.0.45 tokenizers-0.10.3 transformers-4.9.1\n"
          ],
          "name": "stdout"
        }
      ]
    },
    {
      "cell_type": "code",
      "metadata": {
        "colab": {
          "base_uri": "https://localhost:8080/",
          "height": 0,
          "referenced_widgets": [
            "fcf498be3c5c4db9b8fc4beca42a52fb",
            "6e5332b532384a09a11a67a49d75252d",
            "b2e71a50eabf48b6a10de127159b923d",
            "9f7d498917bc4518821d1834c66c8407",
            "c1196cd0d900490e994e9b6eeabffde2",
            "6b773ad4c41b4f17b2136f872c33f4d1",
            "dec63c328a2f44d39dd5bbd8623a5627",
            "efc47484acc148f5a3e87dc9718ace5d",
            "7a35360679b14333be4f54316acf0d7e",
            "79a519bae0d54f0c92ed7b09e0fe96c5",
            "042cc00eb5dd4618b29e3b3660ca9b37",
            "8aa0348eb02046bda10913c422efba1f",
            "4414e73ade524a489ef6429229988fe4",
            "dda3751745f8450c90c05a79554c57ed",
            "2dc97dee319b4c208755e7ae130ddb5f",
            "17371011fc3d4099aeab4c1f0f959827",
            "9159795003a740c78adbe50af7f6592f",
            "3dfdf06c40d245e2b50f5eb808012ff1",
            "cc26f9d451d643c580174b5c31567f4f",
            "e2b19ef0ad4845d3a42a615a9ad7d507",
            "5583775ca159438693c9783c4ae8895d",
            "df82ccc62a2a4d0c855b61709daf8941",
            "6d6ce44ee5be4180806eaef39011d710",
            "e4df6c450f4947fd97cdcb6c3adf7ba3",
            "57bf9d4a6b2040afb9a0e63edfbf02a4",
            "10e5a75bd5514c438ace44637f650cda",
            "135534354d0b496d8136cf13a0422207",
            "241c6c558d704b7b8e245997d73152e3",
            "31379a1f2f7247baac96e86c0248e7eb",
            "f6a2dc42e753402a889c14be357d9fc2",
            "066473e606a044df82a49484eda2bd3e",
            "c2eded5d1d2747349ebc030e0039dcef"
          ]
        },
        "id": "yTdEcul0vGXK",
        "outputId": "11a1a68b-c0da-404e-b93d-ca5f864527e7"
      },
      "source": [
        "from transformers import AutoModelForSequenceClassification\n",
        "from transformers import TFAutoModelForSequenceClassification\n",
        "from transformers import AutoTokenizer\n",
        "import numpy as np\n",
        "from scipy.special import softmax\n",
        "import csv\n",
        "import urllib.request\n",
        "import re\n",
        "\n",
        "# Preprocess text (username and link placeholders)\n",
        "def preprocess(text):\n",
        "    res_text = re.sub(r'[^\\w\\s]', '', text)\n",
        "    return res_text\n",
        "\n",
        "# Tasks:\n",
        "# emoji, emotion, hate, irony, offensive, sentiment\n",
        "# stance/abortion, stance/atheism, stance/climate, stance/feminist, stance/hillary\n",
        "\n",
        "task='sentiment'\n",
        "MODEL = f\"cardiffnlp/twitter-roberta-base-{task}\"\n",
        "print(MODEL)\n",
        "tokenizer = AutoTokenizer.from_pretrained(MODEL)\n"
      ],
      "execution_count": 21,
      "outputs": [
        {
          "output_type": "stream",
          "text": [
            "cardiffnlp/twitter-roberta-base-sentiment\n"
          ],
          "name": "stdout"
        },
        {
          "output_type": "display_data",
          "data": {
            "application/vnd.jupyter.widget-view+json": {
              "model_id": "fcf498be3c5c4db9b8fc4beca42a52fb",
              "version_minor": 0,
              "version_major": 2
            },
            "text/plain": [
              "HBox(children=(FloatProgress(value=0.0, description='Downloading', max=747.0, style=ProgressStyle(description_…"
            ]
          },
          "metadata": {
            "tags": []
          }
        },
        {
          "output_type": "stream",
          "text": [
            "\n"
          ],
          "name": "stdout"
        },
        {
          "output_type": "display_data",
          "data": {
            "application/vnd.jupyter.widget-view+json": {
              "model_id": "7a35360679b14333be4f54316acf0d7e",
              "version_minor": 0,
              "version_major": 2
            },
            "text/plain": [
              "HBox(children=(FloatProgress(value=0.0, description='Downloading', max=898822.0, style=ProgressStyle(descripti…"
            ]
          },
          "metadata": {
            "tags": []
          }
        },
        {
          "output_type": "stream",
          "text": [
            "\n"
          ],
          "name": "stdout"
        },
        {
          "output_type": "display_data",
          "data": {
            "application/vnd.jupyter.widget-view+json": {
              "model_id": "9159795003a740c78adbe50af7f6592f",
              "version_minor": 0,
              "version_major": 2
            },
            "text/plain": [
              "HBox(children=(FloatProgress(value=0.0, description='Downloading', max=456318.0, style=ProgressStyle(descripti…"
            ]
          },
          "metadata": {
            "tags": []
          }
        },
        {
          "output_type": "stream",
          "text": [
            "\n"
          ],
          "name": "stdout"
        },
        {
          "output_type": "display_data",
          "data": {
            "application/vnd.jupyter.widget-view+json": {
              "model_id": "57bf9d4a6b2040afb9a0e63edfbf02a4",
              "version_minor": 0,
              "version_major": 2
            },
            "text/plain": [
              "HBox(children=(FloatProgress(value=0.0, description='Downloading', max=150.0, style=ProgressStyle(description_…"
            ]
          },
          "metadata": {
            "tags": []
          }
        },
        {
          "output_type": "stream",
          "text": [
            "\n"
          ],
          "name": "stdout"
        }
      ]
    },
    {
      "cell_type": "code",
      "metadata": {
        "id": "I4X1OTO8RjiA",
        "colab": {
          "base_uri": "https://localhost:8080/",
          "height": 0,
          "referenced_widgets": [
            "719e46d8706c48eb8ae2c0a90ecffa51",
            "882f3fae9bd8473a931acf6816f4263f",
            "8e6c3fd81ec14b1ba9cfeac835f13b88",
            "7e58b041fd964e5189e7a2ebbbf01156",
            "2d04987944074bf792342b730c50ef14",
            "aa830f6fd83a436c9c27516205935155",
            "f5fc4b0ed247460ead22f58c9991dd37",
            "a9f80cbd31e44a7bae17231e21d440c5"
          ]
        },
        "outputId": "2f8eff00-7436-4e71-9ac2-f388ddfdac12"
      },
      "source": [
        "\n",
        "# download label mapping\n",
        "labels=[]\n",
        "mapping_link = f\"https://raw.githubusercontent.com/cardiffnlp/tweeteval/main/datasets/{task}/mapping.txt\"\n",
        "with urllib.request.urlopen(mapping_link) as f:\n",
        "    html = f.read().decode('utf-8').split(\"\\n\")\n",
        "    csvreader = csv.reader(html, delimiter='\\t')\n",
        "labels = [row[1] for row in csvreader if len(row) > 1]\n",
        "\n",
        "# PT\n",
        "model = AutoModelForSequenceClassification.from_pretrained(MODEL)\n",
        "model.save_pretrained(MODEL)\n"
      ],
      "execution_count": 22,
      "outputs": [
        {
          "output_type": "display_data",
          "data": {
            "application/vnd.jupyter.widget-view+json": {
              "model_id": "719e46d8706c48eb8ae2c0a90ecffa51",
              "version_minor": 0,
              "version_major": 2
            },
            "text/plain": [
              "HBox(children=(FloatProgress(value=0.0, description='Downloading', max=498679497.0, style=ProgressStyle(descri…"
            ]
          },
          "metadata": {
            "tags": []
          }
        },
        {
          "output_type": "stream",
          "text": [
            "\n"
          ],
          "name": "stdout"
        }
      ]
    },
    {
      "cell_type": "code",
      "metadata": {
        "id": "NJylWeOfvK5z"
      },
      "source": [
        "def sentiment_apply(row):\n",
        "  text = row['product review']\n",
        "  text = preprocess(text)\n",
        "  encoded_input = tokenizer(text, return_tensors='pt')\n",
        "  output = model(**encoded_input)\n",
        "  scores = output[0][0].detach().numpy()\n",
        "  scores = softmax(scores)\n",
        "  row['negative']=np.round(float(scores[0]), 4)\n",
        "  row['neutral']=np.round(float(scores[1]), 4)\n",
        "  row['positive']=np.round(float(scores[2]), 4)\n",
        "  return row\n",
        "\n",
        "\n",
        "\n",
        "\n",
        "# rat_info\n",
        "rat_info=rat_info.apply(sentiment_apply,axis=1)"
      ],
      "execution_count": 23,
      "outputs": []
    },
    {
      "cell_type": "code",
      "metadata": {
        "colab": {
          "base_uri": "https://localhost:8080/"
        },
        "id": "nf2VOmZrAXkY",
        "outputId": "5ea1f2dc-c6c7-4c46-8d96-ab5eef5a046a"
      },
      "source": [
        "rat_info_temp=rat_info.groupby('prodId')['negative','neutral','positive'].mean() "
      ],
      "execution_count": 24,
      "outputs": [
        {
          "output_type": "stream",
          "text": [
            "/usr/local/lib/python3.7/dist-packages/ipykernel_launcher.py:1: FutureWarning: Indexing with multiple keys (implicitly converted to a tuple of keys) will be deprecated, use a list instead.\n",
            "  \"\"\"Entry point for launching an IPython kernel.\n"
          ],
          "name": "stderr"
        }
      ]
    },
    {
      "cell_type": "code",
      "metadata": {
        "colab": {
          "base_uri": "https://localhost:8080/",
          "height": 0
        },
        "id": "VNwFiUbsCDtG",
        "outputId": "d0868d6a-8416-40ee-fa8d-11a1605a392c"
      },
      "source": [
        "rat_info_temp"
      ],
      "execution_count": 25,
      "outputs": [
        {
          "output_type": "execute_result",
          "data": {
            "text/html": [
              "<div>\n",
              "<style scoped>\n",
              "    .dataframe tbody tr th:only-of-type {\n",
              "        vertical-align: middle;\n",
              "    }\n",
              "\n",
              "    .dataframe tbody tr th {\n",
              "        vertical-align: top;\n",
              "    }\n",
              "\n",
              "    .dataframe thead th {\n",
              "        text-align: right;\n",
              "    }\n",
              "</style>\n",
              "<table border=\"1\" class=\"dataframe\">\n",
              "  <thead>\n",
              "    <tr style=\"text-align: right;\">\n",
              "      <th></th>\n",
              "      <th>negative</th>\n",
              "      <th>neutral</th>\n",
              "      <th>positive</th>\n",
              "    </tr>\n",
              "    <tr>\n",
              "      <th>prodId</th>\n",
              "      <th></th>\n",
              "      <th></th>\n",
              "      <th></th>\n",
              "    </tr>\n",
              "  </thead>\n",
              "  <tbody>\n",
              "    <tr>\n",
              "      <th>0</th>\n",
              "      <td>0.138630</td>\n",
              "      <td>0.724430</td>\n",
              "      <td>0.136950</td>\n",
              "    </tr>\n",
              "    <tr>\n",
              "      <th>1</th>\n",
              "      <td>0.149925</td>\n",
              "      <td>0.749217</td>\n",
              "      <td>0.100883</td>\n",
              "    </tr>\n",
              "    <tr>\n",
              "      <th>2</th>\n",
              "      <td>0.098733</td>\n",
              "      <td>0.801756</td>\n",
              "      <td>0.099511</td>\n",
              "    </tr>\n",
              "    <tr>\n",
              "      <th>3</th>\n",
              "      <td>0.170311</td>\n",
              "      <td>0.719532</td>\n",
              "      <td>0.110142</td>\n",
              "    </tr>\n",
              "    <tr>\n",
              "      <th>4</th>\n",
              "      <td>0.144188</td>\n",
              "      <td>0.757131</td>\n",
              "      <td>0.098675</td>\n",
              "    </tr>\n",
              "    <tr>\n",
              "      <th>...</th>\n",
              "      <td>...</td>\n",
              "      <td>...</td>\n",
              "      <td>...</td>\n",
              "    </tr>\n",
              "    <tr>\n",
              "      <th>95</th>\n",
              "      <td>0.085879</td>\n",
              "      <td>0.775926</td>\n",
              "      <td>0.138184</td>\n",
              "    </tr>\n",
              "    <tr>\n",
              "      <th>96</th>\n",
              "      <td>0.109412</td>\n",
              "      <td>0.782488</td>\n",
              "      <td>0.108135</td>\n",
              "    </tr>\n",
              "    <tr>\n",
              "      <th>97</th>\n",
              "      <td>0.077640</td>\n",
              "      <td>0.705680</td>\n",
              "      <td>0.216675</td>\n",
              "    </tr>\n",
              "    <tr>\n",
              "      <th>98</th>\n",
              "      <td>0.147761</td>\n",
              "      <td>0.679687</td>\n",
              "      <td>0.172539</td>\n",
              "    </tr>\n",
              "    <tr>\n",
              "      <th>99</th>\n",
              "      <td>0.092664</td>\n",
              "      <td>0.758236</td>\n",
              "      <td>0.149091</td>\n",
              "    </tr>\n",
              "  </tbody>\n",
              "</table>\n",
              "<p>100 rows × 3 columns</p>\n",
              "</div>"
            ],
            "text/plain": [
              "        negative   neutral  positive\n",
              "prodId                              \n",
              "0       0.138630  0.724430  0.136950\n",
              "1       0.149925  0.749217  0.100883\n",
              "2       0.098733  0.801756  0.099511\n",
              "3       0.170311  0.719532  0.110142\n",
              "4       0.144188  0.757131  0.098675\n",
              "...          ...       ...       ...\n",
              "95      0.085879  0.775926  0.138184\n",
              "96      0.109412  0.782488  0.108135\n",
              "97      0.077640  0.705680  0.216675\n",
              "98      0.147761  0.679687  0.172539\n",
              "99      0.092664  0.758236  0.149091\n",
              "\n",
              "[100 rows x 3 columns]"
            ]
          },
          "metadata": {
            "tags": []
          },
          "execution_count": 25
        }
      ]
    },
    {
      "cell_type": "code",
      "metadata": {
        "id": "iDr9fydLi-3u"
      },
      "source": [
        "prod_info_final=prod_info_final.merge(rat_info_temp,on='prodId')"
      ],
      "execution_count": 26,
      "outputs": []
    },
    {
      "cell_type": "code",
      "metadata": {
        "colab": {
          "base_uri": "https://localhost:8080/",
          "height": 0
        },
        "id": "zUtMsopJDbad",
        "outputId": "fcd68eef-cde5-4aad-a2d1-8d7ffdb97dca"
      },
      "source": [
        "prod_info_final"
      ],
      "execution_count": 27,
      "outputs": [
        {
          "output_type": "execute_result",
          "data": {
            "text/html": [
              "<div>\n",
              "<style scoped>\n",
              "    .dataframe tbody tr th:only-of-type {\n",
              "        vertical-align: middle;\n",
              "    }\n",
              "\n",
              "    .dataframe tbody tr th {\n",
              "        vertical-align: top;\n",
              "    }\n",
              "\n",
              "    .dataframe thead th {\n",
              "        text-align: right;\n",
              "    }\n",
              "</style>\n",
              "<table border=\"1\" class=\"dataframe\">\n",
              "  <thead>\n",
              "    <tr style=\"text-align: right;\">\n",
              "      <th></th>\n",
              "      <th>prodId</th>\n",
              "      <th>name</th>\n",
              "      <th>description</th>\n",
              "      <th>category</th>\n",
              "      <th>product_visitor_count</th>\n",
              "      <th>rat_count</th>\n",
              "      <th>rat_avrg</th>\n",
              "      <th>rscore</th>\n",
              "      <th>negative</th>\n",
              "      <th>neutral</th>\n",
              "      <th>positive</th>\n",
              "    </tr>\n",
              "  </thead>\n",
              "  <tbody>\n",
              "    <tr>\n",
              "      <th>0</th>\n",
              "      <td>0</td>\n",
              "      <td>Manager easy service nearly</td>\n",
              "      <td>Seem until physical more professional.</td>\n",
              "      <td>6</td>\n",
              "      <td>0.666667</td>\n",
              "      <td>20</td>\n",
              "      <td>2.350000</td>\n",
              "      <td>2.625768</td>\n",
              "      <td>0.138630</td>\n",
              "      <td>0.724430</td>\n",
              "      <td>0.136950</td>\n",
              "    </tr>\n",
              "    <tr>\n",
              "      <th>1</th>\n",
              "      <td>1</td>\n",
              "      <td>Dinner various among pick</td>\n",
              "      <td>Include why collection build hold house on rel...</td>\n",
              "      <td>4</td>\n",
              "      <td>0.666667</td>\n",
              "      <td>24</td>\n",
              "      <td>3.125000</td>\n",
              "      <td>2.975706</td>\n",
              "      <td>0.149925</td>\n",
              "      <td>0.749217</td>\n",
              "      <td>0.100883</td>\n",
              "    </tr>\n",
              "    <tr>\n",
              "      <th>2</th>\n",
              "      <td>2</td>\n",
              "      <td>While large</td>\n",
              "      <td>Occur painting front goal present.</td>\n",
              "      <td>0</td>\n",
              "      <td>0.666667</td>\n",
              "      <td>18</td>\n",
              "      <td>2.916667</td>\n",
              "      <td>2.870121</td>\n",
              "      <td>0.098733</td>\n",
              "      <td>0.801756</td>\n",
              "      <td>0.099511</td>\n",
              "    </tr>\n",
              "    <tr>\n",
              "      <th>3</th>\n",
              "      <td>3</td>\n",
              "      <td>Six</td>\n",
              "      <td>During fall along reality name recently medical.</td>\n",
              "      <td>7</td>\n",
              "      <td>0.733333</td>\n",
              "      <td>19</td>\n",
              "      <td>2.947368</td>\n",
              "      <td>2.884118</td>\n",
              "      <td>0.170311</td>\n",
              "      <td>0.719532</td>\n",
              "      <td>0.110142</td>\n",
              "    </tr>\n",
              "    <tr>\n",
              "      <th>4</th>\n",
              "      <td>4</td>\n",
              "      <td>Young me international</td>\n",
              "      <td>Debate daughter moment outside message black p...</td>\n",
              "      <td>3</td>\n",
              "      <td>0.466667</td>\n",
              "      <td>16</td>\n",
              "      <td>3.281250</td>\n",
              "      <td>3.006793</td>\n",
              "      <td>0.144188</td>\n",
              "      <td>0.757131</td>\n",
              "      <td>0.098675</td>\n",
              "    </tr>\n",
              "    <tr>\n",
              "      <th>...</th>\n",
              "      <td>...</td>\n",
              "      <td>...</td>\n",
              "      <td>...</td>\n",
              "      <td>...</td>\n",
              "      <td>...</td>\n",
              "      <td>...</td>\n",
              "      <td>...</td>\n",
              "      <td>...</td>\n",
              "      <td>...</td>\n",
              "      <td>...</td>\n",
              "      <td>...</td>\n",
              "    </tr>\n",
              "    <tr>\n",
              "      <th>95</th>\n",
              "      <td>95</td>\n",
              "      <td>Care career</td>\n",
              "      <td>Word month trial.</td>\n",
              "      <td>3</td>\n",
              "      <td>0.133333</td>\n",
              "      <td>19</td>\n",
              "      <td>2.789474</td>\n",
              "      <td>2.817451</td>\n",
              "      <td>0.085879</td>\n",
              "      <td>0.775926</td>\n",
              "      <td>0.138184</td>\n",
              "    </tr>\n",
              "    <tr>\n",
              "      <th>96</th>\n",
              "      <td>96</td>\n",
              "      <td>Everyone not forward</td>\n",
              "      <td>Middle prevent discover.</td>\n",
              "      <td>6</td>\n",
              "      <td>0.866667</td>\n",
              "      <td>17</td>\n",
              "      <td>2.411765</td>\n",
              "      <td>2.669426</td>\n",
              "      <td>0.109412</td>\n",
              "      <td>0.782488</td>\n",
              "      <td>0.108135</td>\n",
              "    </tr>\n",
              "    <tr>\n",
              "      <th>97</th>\n",
              "      <td>97</td>\n",
              "      <td>Choice need</td>\n",
              "      <td>Themselves like again way.</td>\n",
              "      <td>6</td>\n",
              "      <td>0.466667</td>\n",
              "      <td>20</td>\n",
              "      <td>2.700000</td>\n",
              "      <td>2.777942</td>\n",
              "      <td>0.077640</td>\n",
              "      <td>0.705680</td>\n",
              "      <td>0.216675</td>\n",
              "    </tr>\n",
              "    <tr>\n",
              "      <th>98</th>\n",
              "      <td>98</td>\n",
              "      <td>Need sit father</td>\n",
              "      <td>Left clear exist piece because full.</td>\n",
              "      <td>6</td>\n",
              "      <td>0.466667</td>\n",
              "      <td>23</td>\n",
              "      <td>2.543478</td>\n",
              "      <td>2.699700</td>\n",
              "      <td>0.147761</td>\n",
              "      <td>0.679687</td>\n",
              "      <td>0.172539</td>\n",
              "    </tr>\n",
              "    <tr>\n",
              "      <th>99</th>\n",
              "      <td>99</td>\n",
              "      <td>Author cause your focus</td>\n",
              "      <td>Program recognize individual thousand PM reduce.</td>\n",
              "      <td>3</td>\n",
              "      <td>0.600000</td>\n",
              "      <td>11</td>\n",
              "      <td>2.227273</td>\n",
              "      <td>2.656360</td>\n",
              "      <td>0.092664</td>\n",
              "      <td>0.758236</td>\n",
              "      <td>0.149091</td>\n",
              "    </tr>\n",
              "  </tbody>\n",
              "</table>\n",
              "<p>100 rows × 11 columns</p>\n",
              "</div>"
            ],
            "text/plain": [
              "    prodId                         name  ...   neutral  positive\n",
              "0        0  Manager easy service nearly  ...  0.724430  0.136950\n",
              "1        1    Dinner various among pick  ...  0.749217  0.100883\n",
              "2        2                  While large  ...  0.801756  0.099511\n",
              "3        3                          Six  ...  0.719532  0.110142\n",
              "4        4       Young me international  ...  0.757131  0.098675\n",
              "..     ...                          ...  ...       ...       ...\n",
              "95      95                  Care career  ...  0.775926  0.138184\n",
              "96      96         Everyone not forward  ...  0.782488  0.108135\n",
              "97      97                  Choice need  ...  0.705680  0.216675\n",
              "98      98              Need sit father  ...  0.679687  0.172539\n",
              "99      99      Author cause your focus  ...  0.758236  0.149091\n",
              "\n",
              "[100 rows x 11 columns]"
            ]
          },
          "metadata": {
            "tags": []
          },
          "execution_count": 27
        }
      ]
    },
    {
      "cell_type": "markdown",
      "metadata": {
        "id": "utJsLcoiu5q7"
      },
      "source": [
        "\n",
        "\n",
        "# Content based filtering"
      ]
    },
    {
      "cell_type": "code",
      "metadata": {
        "colab": {
          "base_uri": "https://localhost:8080/",
          "height": 932
        },
        "id": "62JBy3ZVzt9x",
        "outputId": "705195de-9f26-4fa8-d5a0-c98b73e5ea2b"
      },
      "source": [
        "prod_info_final.reset_index(inplace = True, drop = True)\n",
        "prod_info_final"
      ],
      "execution_count": 28,
      "outputs": [
        {
          "output_type": "execute_result",
          "data": {
            "text/html": [
              "<div>\n",
              "<style scoped>\n",
              "    .dataframe tbody tr th:only-of-type {\n",
              "        vertical-align: middle;\n",
              "    }\n",
              "\n",
              "    .dataframe tbody tr th {\n",
              "        vertical-align: top;\n",
              "    }\n",
              "\n",
              "    .dataframe thead th {\n",
              "        text-align: right;\n",
              "    }\n",
              "</style>\n",
              "<table border=\"1\" class=\"dataframe\">\n",
              "  <thead>\n",
              "    <tr style=\"text-align: right;\">\n",
              "      <th></th>\n",
              "      <th>prodId</th>\n",
              "      <th>name</th>\n",
              "      <th>description</th>\n",
              "      <th>category</th>\n",
              "      <th>product_visitor_count</th>\n",
              "      <th>rat_count</th>\n",
              "      <th>rat_avrg</th>\n",
              "      <th>rscore</th>\n",
              "      <th>negative</th>\n",
              "      <th>neutral</th>\n",
              "      <th>positive</th>\n",
              "    </tr>\n",
              "  </thead>\n",
              "  <tbody>\n",
              "    <tr>\n",
              "      <th>0</th>\n",
              "      <td>0</td>\n",
              "      <td>Manager easy service nearly</td>\n",
              "      <td>Seem until physical more professional.</td>\n",
              "      <td>6</td>\n",
              "      <td>0.666667</td>\n",
              "      <td>20</td>\n",
              "      <td>2.350000</td>\n",
              "      <td>2.625768</td>\n",
              "      <td>0.138630</td>\n",
              "      <td>0.724430</td>\n",
              "      <td>0.136950</td>\n",
              "    </tr>\n",
              "    <tr>\n",
              "      <th>1</th>\n",
              "      <td>1</td>\n",
              "      <td>Dinner various among pick</td>\n",
              "      <td>Include why collection build hold house on rel...</td>\n",
              "      <td>4</td>\n",
              "      <td>0.666667</td>\n",
              "      <td>24</td>\n",
              "      <td>3.125000</td>\n",
              "      <td>2.975706</td>\n",
              "      <td>0.149925</td>\n",
              "      <td>0.749217</td>\n",
              "      <td>0.100883</td>\n",
              "    </tr>\n",
              "    <tr>\n",
              "      <th>2</th>\n",
              "      <td>2</td>\n",
              "      <td>While large</td>\n",
              "      <td>Occur painting front goal present.</td>\n",
              "      <td>0</td>\n",
              "      <td>0.666667</td>\n",
              "      <td>18</td>\n",
              "      <td>2.916667</td>\n",
              "      <td>2.870121</td>\n",
              "      <td>0.098733</td>\n",
              "      <td>0.801756</td>\n",
              "      <td>0.099511</td>\n",
              "    </tr>\n",
              "    <tr>\n",
              "      <th>3</th>\n",
              "      <td>3</td>\n",
              "      <td>Six</td>\n",
              "      <td>During fall along reality name recently medical.</td>\n",
              "      <td>7</td>\n",
              "      <td>0.733333</td>\n",
              "      <td>19</td>\n",
              "      <td>2.947368</td>\n",
              "      <td>2.884118</td>\n",
              "      <td>0.170311</td>\n",
              "      <td>0.719532</td>\n",
              "      <td>0.110142</td>\n",
              "    </tr>\n",
              "    <tr>\n",
              "      <th>4</th>\n",
              "      <td>4</td>\n",
              "      <td>Young me international</td>\n",
              "      <td>Debate daughter moment outside message black p...</td>\n",
              "      <td>3</td>\n",
              "      <td>0.466667</td>\n",
              "      <td>16</td>\n",
              "      <td>3.281250</td>\n",
              "      <td>3.006793</td>\n",
              "      <td>0.144188</td>\n",
              "      <td>0.757131</td>\n",
              "      <td>0.098675</td>\n",
              "    </tr>\n",
              "    <tr>\n",
              "      <th>...</th>\n",
              "      <td>...</td>\n",
              "      <td>...</td>\n",
              "      <td>...</td>\n",
              "      <td>...</td>\n",
              "      <td>...</td>\n",
              "      <td>...</td>\n",
              "      <td>...</td>\n",
              "      <td>...</td>\n",
              "      <td>...</td>\n",
              "      <td>...</td>\n",
              "      <td>...</td>\n",
              "    </tr>\n",
              "    <tr>\n",
              "      <th>95</th>\n",
              "      <td>95</td>\n",
              "      <td>Care career</td>\n",
              "      <td>Word month trial.</td>\n",
              "      <td>3</td>\n",
              "      <td>0.133333</td>\n",
              "      <td>19</td>\n",
              "      <td>2.789474</td>\n",
              "      <td>2.817451</td>\n",
              "      <td>0.085879</td>\n",
              "      <td>0.775926</td>\n",
              "      <td>0.138184</td>\n",
              "    </tr>\n",
              "    <tr>\n",
              "      <th>96</th>\n",
              "      <td>96</td>\n",
              "      <td>Everyone not forward</td>\n",
              "      <td>Middle prevent discover.</td>\n",
              "      <td>6</td>\n",
              "      <td>0.866667</td>\n",
              "      <td>17</td>\n",
              "      <td>2.411765</td>\n",
              "      <td>2.669426</td>\n",
              "      <td>0.109412</td>\n",
              "      <td>0.782488</td>\n",
              "      <td>0.108135</td>\n",
              "    </tr>\n",
              "    <tr>\n",
              "      <th>97</th>\n",
              "      <td>97</td>\n",
              "      <td>Choice need</td>\n",
              "      <td>Themselves like again way.</td>\n",
              "      <td>6</td>\n",
              "      <td>0.466667</td>\n",
              "      <td>20</td>\n",
              "      <td>2.700000</td>\n",
              "      <td>2.777942</td>\n",
              "      <td>0.077640</td>\n",
              "      <td>0.705680</td>\n",
              "      <td>0.216675</td>\n",
              "    </tr>\n",
              "    <tr>\n",
              "      <th>98</th>\n",
              "      <td>98</td>\n",
              "      <td>Need sit father</td>\n",
              "      <td>Left clear exist piece because full.</td>\n",
              "      <td>6</td>\n",
              "      <td>0.466667</td>\n",
              "      <td>23</td>\n",
              "      <td>2.543478</td>\n",
              "      <td>2.699700</td>\n",
              "      <td>0.147761</td>\n",
              "      <td>0.679687</td>\n",
              "      <td>0.172539</td>\n",
              "    </tr>\n",
              "    <tr>\n",
              "      <th>99</th>\n",
              "      <td>99</td>\n",
              "      <td>Author cause your focus</td>\n",
              "      <td>Program recognize individual thousand PM reduce.</td>\n",
              "      <td>3</td>\n",
              "      <td>0.600000</td>\n",
              "      <td>11</td>\n",
              "      <td>2.227273</td>\n",
              "      <td>2.656360</td>\n",
              "      <td>0.092664</td>\n",
              "      <td>0.758236</td>\n",
              "      <td>0.149091</td>\n",
              "    </tr>\n",
              "  </tbody>\n",
              "</table>\n",
              "<p>100 rows × 11 columns</p>\n",
              "</div>"
            ],
            "text/plain": [
              "    prodId                         name  ...   neutral  positive\n",
              "0        0  Manager easy service nearly  ...  0.724430  0.136950\n",
              "1        1    Dinner various among pick  ...  0.749217  0.100883\n",
              "2        2                  While large  ...  0.801756  0.099511\n",
              "3        3                          Six  ...  0.719532  0.110142\n",
              "4        4       Young me international  ...  0.757131  0.098675\n",
              "..     ...                          ...  ...       ...       ...\n",
              "95      95                  Care career  ...  0.775926  0.138184\n",
              "96      96         Everyone not forward  ...  0.782488  0.108135\n",
              "97      97                  Choice need  ...  0.705680  0.216675\n",
              "98      98              Need sit father  ...  0.679687  0.172539\n",
              "99      99      Author cause your focus  ...  0.758236  0.149091\n",
              "\n",
              "[100 rows x 11 columns]"
            ]
          },
          "metadata": {
            "tags": []
          },
          "execution_count": 28
        }
      ]
    },
    {
      "cell_type": "code",
      "metadata": {
        "colab": {
          "base_uri": "https://localhost:8080/"
        },
        "id": "SRGeGImU29gi",
        "outputId": "ed6444dc-59a0-44cd-cc4b-1b50242097f1"
      },
      "source": [
        "import nltk\n",
        "nltk.download('punkt')\n",
        "prod_info_final['textFeature_token'] = prod_info_final.apply(lambda row: nltk.word_tokenize(row['name']+\" \"+row['description']), axis=1)\n",
        "prod_info_final['textFeature'] = prod_info_final.apply(lambda row: row['name']+\" \"+row['description'], axis=1)"
      ],
      "execution_count": 29,
      "outputs": [
        {
          "output_type": "stream",
          "text": [
            "[nltk_data] Downloading package punkt to /root/nltk_data...\n",
            "[nltk_data]   Unzipping tokenizers/punkt.zip.\n"
          ],
          "name": "stdout"
        }
      ]
    },
    {
      "cell_type": "code",
      "metadata": {
        "id": "AXa6N_RZTcVu",
        "colab": {
          "base_uri": "https://localhost:8080/"
        },
        "outputId": "d2004b5b-8f84-4d1f-da4b-2fbcbe8cd929"
      },
      "source": [
        "EMBEDDING_FILE = '/content/GoogleNews-vectors-negative300.bin.gz'\n",
        "!wget -P /content/ -c \"https://s3.amazonaws.com/dl4j-distribution/GoogleNews-vectors-negative300.bin.gz\""
      ],
      "execution_count": 30,
      "outputs": [
        {
          "output_type": "stream",
          "text": [
            "--2021-07-27 14:40:51--  https://s3.amazonaws.com/dl4j-distribution/GoogleNews-vectors-negative300.bin.gz\n",
            "Resolving s3.amazonaws.com (s3.amazonaws.com)... 52.217.194.24\n",
            "Connecting to s3.amazonaws.com (s3.amazonaws.com)|52.217.194.24|:443... connected.\n",
            "HTTP request sent, awaiting response... 200 OK\n",
            "Length: 1647046227 (1.5G) [application/x-gzip]\n",
            "Saving to: ‘/content/GoogleNews-vectors-negative300.bin.gz’\n",
            "\n",
            "GoogleNews-vectors- 100%[===================>]   1.53G  47.4MB/s    in 34s     \n",
            "\n",
            "2021-07-27 14:41:26 (45.7 MB/s) - ‘/content/GoogleNews-vectors-negative300.bin.gz’ saved [1647046227/1647046227]\n",
            "\n"
          ],
          "name": "stdout"
        }
      ]
    },
    {
      "cell_type": "code",
      "metadata": {
        "id": "7FgLn2EqVTMN"
      },
      "source": [
        "from gensim import models\n",
        "w2v_model = models.KeyedVectors.load_word2vec_format('/content/GoogleNews-vectors-negative300.bin.gz', binary=True)"
      ],
      "execution_count": 31,
      "outputs": []
    },
    {
      "cell_type": "code",
      "metadata": {
        "colab": {
          "base_uri": "https://localhost:8080/"
        },
        "id": "97UEAdngu40A",
        "outputId": "205d1d08-1625-4280-ac2d-a6148627a822"
      },
      "source": [
        "from sklearn.neighbors import NearestNeighbors\n",
        "\n",
        "from gensim.models import Word2Vec,doc2vec\n",
        "from collections import namedtuple\n",
        "import nltk\n",
        "nltk.download('stopwords')\n",
        "from nltk.corpus import stopwords\n",
        "stop_words = set(stopwords.words('english'))\n",
        "def vectorize(doc,w2v_model=w2v_model,stop_words=stop_words):\n",
        "  doc = doc.lower()\n",
        "  words = [w for w in doc.split(\" \") if w not in stop_words]\n",
        "  word_vecs = []\n",
        "  for word in words:\n",
        "      try:\n",
        "          vec = w2v_model[word]\n",
        "          word_vecs.append(vec)\n",
        "      except KeyError:\n",
        "          pass\n",
        "  vector = np.mean(word_vecs, axis=0)\n",
        "  return vector\n"
      ],
      "execution_count": 32,
      "outputs": [
        {
          "output_type": "stream",
          "text": [
            "[nltk_data] Downloading package stopwords to /root/nltk_data...\n",
            "[nltk_data]   Unzipping corpora/stopwords.zip.\n"
          ],
          "name": "stdout"
        }
      ]
    },
    {
      "cell_type": "code",
      "metadata": {
        "id": "CUfXPJ8LU6um"
      },
      "source": [
        "target_docs = prod_info_final['textFeature'].to_list()\n",
        "X=[]\n",
        "for i in target_docs:\n",
        "  X.append(vectorize(i))"
      ],
      "execution_count": 33,
      "outputs": []
    },
    {
      "cell_type": "code",
      "metadata": {
        "id": "_WLpT0jKzqdD"
      },
      "source": [
        "nbrs = NearestNeighbors(n_neighbors=10, algorithm='ball_tree').fit(X)"
      ],
      "execution_count": 34,
      "outputs": []
    },
    {
      "cell_type": "code",
      "metadata": {
        "id": "Kj8h0jNa6yjI"
      },
      "source": [
        "distances, indices = nbrs.kneighbors(X)"
      ],
      "execution_count": 35,
      "outputs": []
    },
    {
      "cell_type": "code",
      "metadata": {
        "id": "gYF5xbsGlEpz"
      },
      "source": [
        "distances_list=distances.tolist()\n",
        "indices_list=indices.tolist()"
      ],
      "execution_count": 36,
      "outputs": []
    },
    {
      "cell_type": "code",
      "metadata": {
        "id": "stJv6iSDH8tI"
      },
      "source": [
        "import itertools\n",
        "\n",
        "indices_distances=[]\n",
        "for i in range(len(distances)):\n",
        " indices_distances.append(list(zip(indices_list[i],distances_list[i])))\n"
      ],
      "execution_count": 37,
      "outputs": []
    },
    {
      "cell_type": "markdown",
      "metadata": {
        "id": "7IttDfuG3oNS"
      },
      "source": [
        "# Sorting best product for user"
      ]
    },
    {
      "cell_type": "markdown",
      "metadata": {
        "id": "RN-jb16fdxpS"
      },
      "source": [
        "Input: user id and product ids"
      ]
    },
    {
      "cell_type": "code",
      "metadata": {
        "id": "rXRqrjDMpaFA"
      },
      "source": [
        "uid=8\n",
        "pids=[6,43,74]"
      ],
      "execution_count": 38,
      "outputs": []
    },
    {
      "cell_type": "code",
      "metadata": {
        "colab": {
          "base_uri": "https://localhost:8080/"
        },
        "id": "t69qLLBd7q_S",
        "outputId": "4f058492-e81e-4f85-d8b2-9cce6d4dddc6"
      },
      "source": [
        "def recommandation(uid,pids,uhis_info_path):\n",
        "  recommanded=[]\n",
        "  for i in pids:\n",
        "      recommanded.extend(indices_distances[i])\n",
        "  r_products={}\n",
        "  for prod in recommanded:\n",
        "    if prod[0] in r_products:\n",
        "      r_products[prod[0]] = min(r_products[prod[0]],prod[1])\n",
        "    else:\n",
        "      r_products[prod[0]] = prod[1]\n",
        "  uhis_info=pd.read_csv(uhis_info_path,index_col=0)\n",
        "  userhistory=uhis_info[uhis_info['userId']==uid].groupby([\"prodId\"],as_index=False).agg(visit_count=pd.NamedAgg(column=\"prodId\", aggfunc=\"count\"))\n",
        "  oldvisited=userhistory.set_index('prodId')['visit_count'].to_dict()\n",
        "  fr_products={}\n",
        "  print(r_products)\n",
        "  for key,value in r_products.items():\n",
        "    if key not in pids:\n",
        "      if key in oldvisited.keys():\n",
        "        fr_products[key]=abs(value-max(r_products.values()))*oldvisited[key]\n",
        "      else:\n",
        "        fr_products[key]=abs(value-max(r_products.values()))\n",
        "  return fr_products\n",
        "fr_products=recommandation(uid,pids,uhis_info_path=uhis_info_path)"
      ],
      "execution_count": 39,
      "outputs": [
        {
          "output_type": "stream",
          "text": [
            "{6: 0.0, 78: 1.064142627164712, 12: 1.011751202236738, 48: 0.9358484715960574, 62: 1.1583103620666755, 70: 1.1608897268195257, 46: 1.1680919954294047, 93: 1.1750820623234144, 88: 1.1778507492431387, 74: 0.0, 43: 0.0, 75: 1.129849791354836, 58: 1.178765423555653, 28: 1.2053756009078211, 80: 1.0527061242516784, 59: 1.2518304114107779, 7: 1.2809451433214953, 51: 0.9561516915704732, 68: 1.0395589211410252, 83: 1.0463181843785267, 69: 1.0564105461125117, 41: 1.0757146514878269}\n"
          ],
          "name": "stdout"
        }
      ]
    },
    {
      "cell_type": "code",
      "metadata": {
        "id": "uRxbHDGIArf-"
      },
      "source": [
        "fr_productsdf=pd.DataFrame(list(fr_products.items()),columns=['prodId','similarity'])"
      ],
      "execution_count": 40,
      "outputs": []
    },
    {
      "cell_type": "code",
      "metadata": {
        "id": "HkuUa_XiBDQP"
      },
      "source": [
        "fr_productsdf['similarity'] =(fr_productsdf['similarity'] - fr_productsdf['similarity'].min()) / (fr_productsdf['similarity'].max() - fr_productsdf['similarity'].min())\n"
      ],
      "execution_count": 41,
      "outputs": []
    },
    {
      "cell_type": "code",
      "metadata": {
        "id": "1UwZd2cwEVTW"
      },
      "source": [
        "fr_productsdf['similarity'] = fr_productsdf['similarity'].apply(lambda x: x*0.2)"
      ],
      "execution_count": 42,
      "outputs": []
    },
    {
      "cell_type": "code",
      "metadata": {
        "id": "wfHEc_BtJ6Jj"
      },
      "source": [
        "fr_productsdf=fr_productsdf.merge(prod_info_final,on='prodId')[['prodId','similarity','product_visitor_count','rscore','positive']]\n",
        "fr_productsdf['product_visitor_count'] = fr_productsdf['product_visitor_count'].apply(lambda x: x*0.1)\n",
        "fr_productsdf['rscore'] =(fr_productsdf['rscore'] - fr_productsdf['rscore'].min()) / (fr_productsdf['rscore'].max() - fr_productsdf['rscore'].min())\n",
        "fr_productsdf['rscore'] = fr_productsdf['rscore'].apply(lambda x: x*0.3)\n",
        "fr_productsdf['positive'] = fr_productsdf['positive'].apply(lambda x: x*0.4)\n",
        "fr_productsdf['Final_score'] = fr_productsdf.iloc[:, -4:-1].sum(axis=1)\n",
        "fr_productsdf['Final_score'] = fr_productsdf['Final_score'].apply(lambda x: x*100)"
      ],
      "execution_count": 43,
      "outputs": []
    },
    {
      "cell_type": "code",
      "metadata": {
        "id": "3zLr4f9aqi4y",
        "colab": {
          "base_uri": "https://localhost:8080/",
          "height": 638
        },
        "outputId": "f61b6c2e-ada0-4ff3-e4dd-3741463b6fbe"
      },
      "source": [
        "recommanded_prodcuts=fr_productsdf.sort_values('Final_score',ascending=False)[['prodId','Final_score']]\n",
        "recommanded_prodcuts"
      ],
      "execution_count": 44,
      "outputs": [
        {
          "output_type": "execute_result",
          "data": {
            "text/html": [
              "<div>\n",
              "<style scoped>\n",
              "    .dataframe tbody tr th:only-of-type {\n",
              "        vertical-align: middle;\n",
              "    }\n",
              "\n",
              "    .dataframe tbody tr th {\n",
              "        vertical-align: top;\n",
              "    }\n",
              "\n",
              "    .dataframe thead th {\n",
              "        text-align: right;\n",
              "    }\n",
              "</style>\n",
              "<table border=\"1\" class=\"dataframe\">\n",
              "  <thead>\n",
              "    <tr style=\"text-align: right;\">\n",
              "      <th></th>\n",
              "      <th>prodId</th>\n",
              "      <th>Final_score</th>\n",
              "    </tr>\n",
              "  </thead>\n",
              "  <tbody>\n",
              "    <tr>\n",
              "      <th>0</th>\n",
              "      <td>78</td>\n",
              "      <td>46.945729</td>\n",
              "    </tr>\n",
              "    <tr>\n",
              "      <th>7</th>\n",
              "      <td>88</td>\n",
              "      <td>41.974812</td>\n",
              "    </tr>\n",
              "    <tr>\n",
              "      <th>18</th>\n",
              "      <td>41</td>\n",
              "      <td>41.724964</td>\n",
              "    </tr>\n",
              "    <tr>\n",
              "      <th>1</th>\n",
              "      <td>12</td>\n",
              "      <td>38.286348</td>\n",
              "    </tr>\n",
              "    <tr>\n",
              "      <th>2</th>\n",
              "      <td>48</td>\n",
              "      <td>36.685366</td>\n",
              "    </tr>\n",
              "    <tr>\n",
              "      <th>4</th>\n",
              "      <td>70</td>\n",
              "      <td>34.254518</td>\n",
              "    </tr>\n",
              "    <tr>\n",
              "      <th>14</th>\n",
              "      <td>51</td>\n",
              "      <td>32.271379</td>\n",
              "    </tr>\n",
              "    <tr>\n",
              "      <th>16</th>\n",
              "      <td>83</td>\n",
              "      <td>29.141814</td>\n",
              "    </tr>\n",
              "    <tr>\n",
              "      <th>9</th>\n",
              "      <td>58</td>\n",
              "      <td>28.949743</td>\n",
              "    </tr>\n",
              "    <tr>\n",
              "      <th>17</th>\n",
              "      <td>69</td>\n",
              "      <td>28.737490</td>\n",
              "    </tr>\n",
              "    <tr>\n",
              "      <th>8</th>\n",
              "      <td>75</td>\n",
              "      <td>28.513998</td>\n",
              "    </tr>\n",
              "    <tr>\n",
              "      <th>11</th>\n",
              "      <td>80</td>\n",
              "      <td>26.045985</td>\n",
              "    </tr>\n",
              "    <tr>\n",
              "      <th>15</th>\n",
              "      <td>68</td>\n",
              "      <td>24.733701</td>\n",
              "    </tr>\n",
              "    <tr>\n",
              "      <th>3</th>\n",
              "      <td>62</td>\n",
              "      <td>22.643909</td>\n",
              "    </tr>\n",
              "    <tr>\n",
              "      <th>6</th>\n",
              "      <td>93</td>\n",
              "      <td>20.899825</td>\n",
              "    </tr>\n",
              "    <tr>\n",
              "      <th>5</th>\n",
              "      <td>46</td>\n",
              "      <td>14.870113</td>\n",
              "    </tr>\n",
              "    <tr>\n",
              "      <th>10</th>\n",
              "      <td>28</td>\n",
              "      <td>12.220641</td>\n",
              "    </tr>\n",
              "    <tr>\n",
              "      <th>13</th>\n",
              "      <td>7</td>\n",
              "      <td>10.278792</td>\n",
              "    </tr>\n",
              "    <tr>\n",
              "      <th>12</th>\n",
              "      <td>59</td>\n",
              "      <td>5.687338</td>\n",
              "    </tr>\n",
              "  </tbody>\n",
              "</table>\n",
              "</div>"
            ],
            "text/plain": [
              "    prodId  Final_score\n",
              "0       78    46.945729\n",
              "7       88    41.974812\n",
              "18      41    41.724964\n",
              "1       12    38.286348\n",
              "2       48    36.685366\n",
              "4       70    34.254518\n",
              "14      51    32.271379\n",
              "16      83    29.141814\n",
              "9       58    28.949743\n",
              "17      69    28.737490\n",
              "8       75    28.513998\n",
              "11      80    26.045985\n",
              "15      68    24.733701\n",
              "3       62    22.643909\n",
              "6       93    20.899825\n",
              "5       46    14.870113\n",
              "10      28    12.220641\n",
              "13       7    10.278792\n",
              "12      59     5.687338"
            ]
          },
          "metadata": {
            "tags": []
          },
          "execution_count": 44
        }
      ]
    },
    {
      "cell_type": "code",
      "metadata": {
        "colab": {
          "base_uri": "https://localhost:8080/"
        },
        "id": "6GPVNQXpUloh",
        "outputId": "0d1a9e77-73f1-4452-e9de-0d2c2580c866"
      },
      "source": [
        "prod_dict = []\n",
        "\n",
        "for index, row in list(recommanded_prodcuts.iterrows()):\n",
        "    prod_dict.append(dict(row))\n",
        "prod_dict"
      ],
      "execution_count": 45,
      "outputs": [
        {
          "output_type": "execute_result",
          "data": {
            "text/plain": [
              "[{'Final_score': 46.94572862935972, 'prodId': 78.0},\n",
              " {'Final_score': 41.97481242359703, 'prodId': 88.0},\n",
              " {'Final_score': 41.724964273132535, 'prodId': 41.0},\n",
              " {'Final_score': 38.28634813631401, 'prodId': 12.0},\n",
              " {'Final_score': 36.68536617314504, 'prodId': 48.0},\n",
              " {'Final_score': 34.25451784712854, 'prodId': 70.0},\n",
              " {'Final_score': 32.27137878500139, 'prodId': 51.0},\n",
              " {'Final_score': 29.141814464883108, 'prodId': 83.0},\n",
              " {'Final_score': 28.949743055060427, 'prodId': 58.0},\n",
              " {'Final_score': 28.73748976613259, 'prodId': 69.0},\n",
              " {'Final_score': 28.51399810733365, 'prodId': 75.0},\n",
              " {'Final_score': 26.04598460948635, 'prodId': 80.0},\n",
              " {'Final_score': 24.733701085453056, 'prodId': 68.0},\n",
              " {'Final_score': 22.643909009847228, 'prodId': 62.0},\n",
              " {'Final_score': 20.899825476053646, 'prodId': 93.0},\n",
              " {'Final_score': 14.8701132610581, 'prodId': 46.0},\n",
              " {'Final_score': 12.220641156575532, 'prodId': 28.0},\n",
              " {'Final_score': 10.278792289673694, 'prodId': 7.0},\n",
              " {'Final_score': 5.6873377401843745, 'prodId': 59.0}]"
            ]
          },
          "metadata": {
            "tags": []
          },
          "execution_count": 45
        }
      ]
    }
  ]
}